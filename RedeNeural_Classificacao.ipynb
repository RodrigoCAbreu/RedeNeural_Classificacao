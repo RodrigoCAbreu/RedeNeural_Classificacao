{
 "cells": [
  {
   "cell_type": "code",
   "execution_count": 1,
   "metadata": {},
   "outputs": [
    {
     "name": "stdout",
     "output_type": "stream",
     "text": [
      "Versão da Linguagem Python Usada Neste Jupyter Notebook: 3.8.5\n"
     ]
    }
   ],
   "source": [
    "# Versão da Linguagem Python\n",
    "from platform import python_version\n",
    "print('Versão da Linguagem Python Usada Neste Jupyter Notebook:', python_version())"
   ]
  },
  {
   "cell_type": "markdown",
   "metadata": {},
   "source": [
    "### Construção de um modelo de Rede Neural com programação e matemática"
   ]
  },
  {
   "cell_type": "code",
   "execution_count": 2,
   "metadata": {},
   "outputs": [],
   "source": [
    "# Instala o pacote watermark. \n",
    "!pip install -q -U watermark"
   ]
  },
  {
   "cell_type": "code",
   "execution_count": 3,
   "metadata": {},
   "outputs": [],
   "source": [
    "# Imports dos pacotes\n",
    "import numpy as np\n",
    "import sklearn\n",
    "import pandas as pd\n",
    "import matplotlib\n",
    "import matplotlib.pyplot as plt\n",
    "from sklearn.datasets import load_breast_cancer\n",
    "from sklearn.model_selection import train_test_split\n",
    "from sklearn.metrics import classification_report"
   ]
  },
  {
   "cell_type": "code",
   "execution_count": 4,
   "metadata": {},
   "outputs": [
    {
     "name": "stdout",
     "output_type": "stream",
     "text": [
      "Author: Rodrigo Abreu\n",
      "\n",
      "pandas    : 1.1.3\n",
      "sklearn   : 0.23.2\n",
      "numpy     : 1.19.2\n",
      "matplotlib: 3.3.2\n",
      "\n"
     ]
    }
   ],
   "source": [
    "# Versões dos pacotes usados neste jupyter notebook\n",
    "%reload_ext watermark\n",
    "%watermark -a \"Rodrigo Abreu\" --iversions"
   ]
  },
  {
   "cell_type": "markdown",
   "metadata": {},
   "source": [
    "#### Desenvolvendo a Função Para Inicialização de Pesos"
   ]
  },
  {
   "cell_type": "code",
   "execution_count": 5,
   "metadata": {},
   "outputs": [],
   "source": [
    "# Função para inicialização randômica dos parâmetros do modelo\n",
    "def inicializa_parametros(dims_camada_entrada):\n",
    "    \n",
    "    # Dicionário para os parâmetros\n",
    "    parameters = {}\n",
    "    \n",
    "    # Comprimento das dimensões das camadas\n",
    "    comp = len(dims_camada_entrada)\n",
    "    \n",
    "    # Loop pelo comprimento\n",
    "    for i in range(1, comp):\n",
    "        \n",
    "        # Inicialização da matriz de pesos\n",
    "        parameters[\"W\" + str(i)] = np.random.randn(dims_camada_entrada[i], dims_camada_entrada[i - 1]) * 0.01\n",
    "        \n",
    "        # Inicialização do bias\n",
    "        parameters[\"b\" + str(i)] = np.zeros((dims_camada_entrada[i], 1))\n",
    "    \n",
    "    return parameters"
   ]
  },
  {
   "cell_type": "code",
   "execution_count": 6,
   "metadata": {},
   "outputs": [],
   "source": [
    "# Função sigmóide\n",
    "def sigmoid(Z):\n",
    "    A = 1 / (1 + np.exp(-Z))\n",
    "    return A, Z"
   ]
  },
  {
   "cell_type": "code",
   "execution_count": 7,
   "metadata": {},
   "outputs": [],
   "source": [
    "# Função de ativação ReLu (Rectified Linear Unit)\n",
    "def relu(Z):\n",
    "    A = abs(Z * (Z > 0))\n",
    "    return A, Z"
   ]
  },
  {
   "cell_type": "code",
   "execution_count": 8,
   "metadata": {},
   "outputs": [],
   "source": [
    "# Operação de ativação\n",
    "# A é a matriz com os dados de entrada\n",
    "# W é a matriz de pesos\n",
    "# b é o bias\n",
    "def linear_activation(A, W, b):\n",
    "    Z = np.dot(W, A) + b\n",
    "    cache = (A, W, b)\n",
    "    return Z, cache"
   ]
  },
  {
   "cell_type": "code",
   "execution_count": 9,
   "metadata": {},
   "outputs": [],
   "source": [
    "# Movimento para frente (forward)\n",
    "def forward(A_prev, W, b, activation):\n",
    "    \n",
    "    # Se a função de ativação for Sigmoid, entramos neste bloco\n",
    "    if activation == \"sigmoid\":\n",
    "        Z, linear_cache = linear_activation(A_prev, W, b)\n",
    "        A, activation_cache = sigmoid(Z)\n",
    "        \n",
    "    # Se não, se for ReLu, entramos neste bloco    \n",
    "    elif activation == \"relu\":\n",
    "        Z, linear_cache = linear_activation(A_prev, W, b)\n",
    "        A, activation_cache = relu(Z)\n",
    "        \n",
    "    cache = (linear_cache, activation_cache)\n",
    "    \n",
    "    return A, cache"
   ]
  },
  {
   "cell_type": "code",
   "execution_count": 10,
   "metadata": {},
   "outputs": [],
   "source": [
    "# Propagação para frente\n",
    "def forward_propagation(X, parameters):\n",
    "    \n",
    "    # Lista de valores anteriores (cache)\n",
    "    caches = []\n",
    "    \n",
    "    # Dados de entrada\n",
    "    A = X\n",
    "    \n",
    "    # Comprimento dos parâmetros\n",
    "    L = len(parameters) // 2\n",
    "   \n",
    "    # Loop\n",
    "    for i in range(1, L):\n",
    "      \n",
    "        # Guarda o valor prévio de A\n",
    "        A_prev = A\n",
    "        \n",
    "        # Executa o forward\n",
    "        A, cache = forward(A_prev, parameters[\"W\" + str(i)], parameters[\"b\" + str(i)], activation = \"relu\")\n",
    "        \n",
    "        # Grava o cache\n",
    "        caches.append(cache)\n",
    "    \n",
    "    # Saída na última camada\n",
    "    A_last, cache = forward(A, parameters[\"W\" + str(L)], parameters[\"b\" + str(L)], activation = \"sigmoid\")\n",
    "    \n",
    "    # Grava o cache\n",
    "    caches.append(cache)\n",
    "    \n",
    "    return(A_last, caches)"
   ]
  },
  {
   "cell_type": "code",
   "execution_count": 11,
   "metadata": {},
   "outputs": [],
   "source": [
    "# Função de custo (ou função de erro)\n",
    "def calcula_custo(A_last, Y):\n",
    "    \n",
    "    # Ajusta o shape de Y para obter seu comprimento (total de elementos)\n",
    "    m = Y.shape[1]\n",
    "    \n",
    "    # Calcula o custo comparando valor real e previso\n",
    "    custo = (-1 / m) * np.sum((Y * np.log(A_last)) + ((1 - Y) * np.log(1 - A_last)))\n",
    "    \n",
    "    # Ajusta o shape do custo\n",
    "    custo = np.squeeze(custo)\n",
    "    \n",
    "    return(custo)"
   ]
  },
  {
   "cell_type": "code",
   "execution_count": 12,
   "metadata": {},
   "outputs": [],
   "source": [
    "# Função sigmoid para o backpropagation \n",
    "# Fazemos o cálculo da derivada pois não queremos o valor completo da função, mas sim sua variação\n",
    "def sigmoid_backward(da, Z):\n",
    "    \n",
    "    # Calculamos a derivada de Z\n",
    "    dg = (1 / (1 + np.exp(-Z))) * (1 - (1 / (1 + np.exp(-Z))))\n",
    "    \n",
    "    # Encontramos a mudança na derivada de z\n",
    "    dz = da * dg\n",
    "    return dz"
   ]
  },
  {
   "cell_type": "code",
   "execution_count": 13,
   "metadata": {},
   "outputs": [],
   "source": [
    "# Função relu para o backpropagation \n",
    "# Fazemos o cálculo da derivada pois não queremos o valor completo da função, mas sim sua variação\n",
    "def relu_backward(da, Z):\n",
    "    \n",
    "    dg = 1 * ( Z >= 0)\n",
    "    dz = da * dg\n",
    "    return dz"
   ]
  },
  {
   "cell_type": "code",
   "execution_count": 14,
   "metadata": {},
   "outputs": [],
   "source": [
    "# Ativação linear para o backpropagation\n",
    "def linear_backward_function(dz, cache):\n",
    "    \n",
    "    # Recebe os valores do cache (memória)\n",
    "    A_prev, W, b = cache\n",
    "    \n",
    "    # Shape de m\n",
    "    m = A_prev.shape[1]\n",
    "    \n",
    "    # Calcula a derivada de W (resultado da operação com dz)\n",
    "    dW = (1 / m) * np.dot(dz, A_prev.T)\n",
    "    \n",
    "    # Calcula a derivada de b (resultado da operação com dz)\n",
    "    db = (1 / m) * np.sum(dz, axis = 1, keepdims = True)\n",
    "    \n",
    "    # Calcula a derivada da operação\n",
    "    dA_prev = np.dot(W.T, dz)\n",
    "    \n",
    "    return dA_prev, dW, db"
   ]
  },
  {
   "cell_type": "code",
   "execution_count": 15,
   "metadata": {},
   "outputs": [],
   "source": [
    "# Função que define o tipo de ativação (relu ou sigmoid)\n",
    "def linear_activation_backward(dA, cache, activation):\n",
    "    \n",
    "    # Extrai o cache\n",
    "    linear_cache, activation_cache = cache\n",
    "    \n",
    "    # Verifica se a ativação é relu\n",
    "    if activation == \"relu\":\n",
    "        dZ = relu_backward(dA, activation_cache)\n",
    "        dA_prev, dW, db = linear_backward_function(dZ, linear_cache)\n",
    "        \n",
    "    # Verifica se a ativação é sigmoid\n",
    "    if activation == \"sigmoid\":\n",
    "        dZ = sigmoid_backward(dA, activation_cache)\n",
    "        dA_prev, dW, db = linear_backward_function(dZ, linear_cache)\n",
    "        \n",
    "    return dA_prev, dW, db"
   ]
  },
  {
   "cell_type": "code",
   "execution_count": 16,
   "metadata": {},
   "outputs": [],
   "source": [
    "# Algoritmo Backpropagation (calcula os gradientes para atualização dos pesos)\n",
    "# AL = Valor previsto no Forward\n",
    "# Y = Valor real\n",
    "def backward_propagation(AL, Y, caches):\n",
    "    \n",
    "    # Dicionário para os gradientes\n",
    "    grads = {}\n",
    "    \n",
    "    # Comprimento dos dados (que estão no cache)\n",
    "    L = len(caches)\n",
    "    \n",
    "    # Extrai o comprimento para o valor de m\n",
    "    m = AL.shape[1]\n",
    "    \n",
    "    # Ajusta o shape de Y\n",
    "    Y = Y.reshape(AL.shape)\n",
    "    \n",
    "    # Calcula a derivada da previsão final da rede (feita ao final do Forward Propagation)\n",
    "    dAL = -((Y / AL) - ((1 - Y) / (1 - AL)))\n",
    "    \n",
    "    # Captura o valor corrente do cache\n",
    "    current_cache = caches[L - 1]\n",
    "    \n",
    "    # Gera a lista de gradiente para os dados, os pesos e o bias\n",
    "    # Fazemos isso uma vez, pois estamos na parte final da rede, iniciando o caminho de volta\n",
    "    grads[\"dA\" + str(L - 1)], grads[\"dW\" + str(L)], grads[\"db\" + str(L)] = linear_activation_backward(dAL, current_cache, activation = \"sigmoid\")\n",
    "    \n",
    "    # Loop para calcular a derivada durante as ativações lineares com a relu\n",
    "    for l in reversed(range(L - 1)):\n",
    "        \n",
    "        # Cache atual\n",
    "        current_cache = caches[l]\n",
    "        \n",
    "        # Calcula as derivadas\n",
    "        dA_prev, dW, db = linear_activation_backward(grads[\"dA\" + str(l + 1)], current_cache, activation = \"relu\")\n",
    "        \n",
    "        # Alimenta os gradientes na lista, usando o índice respectivo\n",
    "        grads[\"dA\" + str(l)] = dA_prev\n",
    "        grads[\"dW\" + str(l + 1)] = dW\n",
    "        grads[\"db\" + str(l + 1)] = db\n",
    "        \n",
    "    return grads"
   ]
  },
  {
   "cell_type": "code",
   "execution_count": 17,
   "metadata": {},
   "outputs": [],
   "source": [
    "# Função de atualização de pesos\n",
    "def atualiza_pesos(parameters, grads, learning_rate):\n",
    "    \n",
    "    # Comprimento da estrutura de dados com os parâmetros (pesos e bias)\n",
    "    L = len(parameters)//2\n",
    "    \n",
    "    # Loop para atualização dos pesos\n",
    "    for l in range(L):\n",
    "        \n",
    "        # Atualização dos pesos\n",
    "        parameters[\"W\" + str(l + 1)] = parameters[\"W\" + str(l + 1)] - (learning_rate * grads[\"dW\" + str(l + 1)])\n",
    "        \n",
    "        # Atualização do bias\n",
    "        parameters[\"b\" + str(l + 1)] = parameters[\"b\" + str(l + 1)] - (learning_rate * grads[\"db\" + str(l + 1)])\n",
    "    \n",
    "    return parameters"
   ]
  },
  {
   "cell_type": "code",
   "execution_count": 52,
   "metadata": {},
   "outputs": [],
   "source": [
    "# Modelo completo da rede neural\n",
    "def modeloNN(X, Y, dims_camada_entrada, learning_rate = 0.0075, num_iterations = 100):\n",
    "    \n",
    "    # Lista para receber o custo a cada época de treinamento\n",
    "    custos = []\n",
    "    \n",
    "    # Inicializa os parâmetros\n",
    "    parametros = inicializa_parametros(dims_camada_entrada)\n",
    "    \n",
    "    # Loop pelo número de iterações (épocas)\n",
    "    for i in range(num_iterations):\n",
    "        \n",
    "        # Forward Propagation\n",
    "        AL, caches = forward_propagation(X, parametros)\n",
    "        \n",
    "        # Calcula o custo\n",
    "        custo = calcula_custo(AL, Y)\n",
    "        \n",
    "        # Backward Propagation\n",
    "        gradientes = backward_propagation(AL, Y, caches)\n",
    "        \n",
    "        # Atualiza os pesos\n",
    "        parametros = atualiza_pesos(parametros, gradientes, learning_rate)\n",
    "        \n",
    "        # Print do valor intermediário do custo\n",
    "        # A redução do custo indica o aprendizado do modelo\n",
    "        if i % 10 == 0:\n",
    "            print(\"Custo Após \" + str(i) + \" iterações é \" + str(custo))\n",
    "            custos.append(custo)\n",
    "            \n",
    "    return parametros, custos "
   ]
  },
  {
   "cell_type": "code",
   "execution_count": 19,
   "metadata": {},
   "outputs": [],
   "source": [
    "# Função para fazer as previsões\n",
    "def predict(X, parametros):\n",
    "    AL, caches = forward_propagation(X, parametros)\n",
    "    return AL"
   ]
  },
  {
   "cell_type": "markdown",
   "metadata": {},
   "source": [
    "#### Usando a Rede Neural Para Prever a Ocorrência de Câncer"
   ]
  },
  {
   "cell_type": "code",
   "execution_count": 20,
   "metadata": {},
   "outputs": [],
   "source": [
    "#Carregando os Dados\n",
    "#https://scikit-learn.org/stable/datasets/index.html#breast-cancer-dataset"
   ]
  },
  {
   "cell_type": "code",
   "execution_count": 21,
   "metadata": {},
   "outputs": [],
   "source": [
    "# Carregamos o objeto completo\n",
    "temp = load_breast_cancer()"
   ]
  },
  {
   "cell_type": "code",
   "execution_count": 22,
   "metadata": {},
   "outputs": [
    {
     "data": {
      "text/plain": [
       "sklearn.utils.Bunch"
      ]
     },
     "execution_count": 22,
     "metadata": {},
     "output_type": "execute_result"
    }
   ],
   "source": [
    "# Tipo do objeto\n",
    "type(temp)"
   ]
  },
  {
   "cell_type": "code",
   "execution_count": 23,
   "metadata": {},
   "outputs": [
    {
     "data": {
      "text/plain": [
       "{'data': array([[1.799e+01, 1.038e+01, 1.228e+02, ..., 2.654e-01, 4.601e-01,\n",
       "         1.189e-01],\n",
       "        [2.057e+01, 1.777e+01, 1.329e+02, ..., 1.860e-01, 2.750e-01,\n",
       "         8.902e-02],\n",
       "        [1.969e+01, 2.125e+01, 1.300e+02, ..., 2.430e-01, 3.613e-01,\n",
       "         8.758e-02],\n",
       "        ...,\n",
       "        [1.660e+01, 2.808e+01, 1.083e+02, ..., 1.418e-01, 2.218e-01,\n",
       "         7.820e-02],\n",
       "        [2.060e+01, 2.933e+01, 1.401e+02, ..., 2.650e-01, 4.087e-01,\n",
       "         1.240e-01],\n",
       "        [7.760e+00, 2.454e+01, 4.792e+01, ..., 0.000e+00, 2.871e-01,\n",
       "         7.039e-02]]),\n",
       " 'target': array([0, 0, 0, 0, 0, 0, 0, 0, 0, 0, 0, 0, 0, 0, 0, 0, 0, 0, 0, 1, 1, 1,\n",
       "        0, 0, 0, 0, 0, 0, 0, 0, 0, 0, 0, 0, 0, 0, 0, 1, 0, 0, 0, 0, 0, 0,\n",
       "        0, 0, 1, 0, 1, 1, 1, 1, 1, 0, 0, 1, 0, 0, 1, 1, 1, 1, 0, 1, 0, 0,\n",
       "        1, 1, 1, 1, 0, 1, 0, 0, 1, 0, 1, 0, 0, 1, 1, 1, 0, 0, 1, 0, 0, 0,\n",
       "        1, 1, 1, 0, 1, 1, 0, 0, 1, 1, 1, 0, 0, 1, 1, 1, 1, 0, 1, 1, 0, 1,\n",
       "        1, 1, 1, 1, 1, 1, 1, 0, 0, 0, 1, 0, 0, 1, 1, 1, 0, 0, 1, 0, 1, 0,\n",
       "        0, 1, 0, 0, 1, 1, 0, 1, 1, 0, 1, 1, 1, 1, 0, 1, 1, 1, 1, 1, 1, 1,\n",
       "        1, 1, 0, 1, 1, 1, 1, 0, 0, 1, 0, 1, 1, 0, 0, 1, 1, 0, 0, 1, 1, 1,\n",
       "        1, 0, 1, 1, 0, 0, 0, 1, 0, 1, 0, 1, 1, 1, 0, 1, 1, 0, 0, 1, 0, 0,\n",
       "        0, 0, 1, 0, 0, 0, 1, 0, 1, 0, 1, 1, 0, 1, 0, 0, 0, 0, 1, 1, 0, 0,\n",
       "        1, 1, 1, 0, 1, 1, 1, 1, 1, 0, 0, 1, 1, 0, 1, 1, 0, 0, 1, 0, 1, 1,\n",
       "        1, 1, 0, 1, 1, 1, 1, 1, 0, 1, 0, 0, 0, 0, 0, 0, 0, 0, 0, 0, 0, 0,\n",
       "        0, 0, 1, 1, 1, 1, 1, 1, 0, 1, 0, 1, 1, 0, 1, 1, 0, 1, 0, 0, 1, 1,\n",
       "        1, 1, 1, 1, 1, 1, 1, 1, 1, 1, 1, 0, 1, 1, 0, 1, 0, 1, 1, 1, 1, 1,\n",
       "        1, 1, 1, 1, 1, 1, 1, 1, 1, 0, 1, 1, 1, 0, 1, 0, 1, 1, 1, 1, 0, 0,\n",
       "        0, 1, 1, 1, 1, 0, 1, 0, 1, 0, 1, 1, 1, 0, 1, 1, 1, 1, 1, 1, 1, 0,\n",
       "        0, 0, 1, 1, 1, 1, 1, 1, 1, 1, 1, 1, 1, 0, 0, 1, 0, 0, 0, 1, 0, 0,\n",
       "        1, 1, 1, 1, 1, 0, 1, 1, 1, 1, 1, 0, 1, 1, 1, 0, 1, 1, 0, 0, 1, 1,\n",
       "        1, 1, 1, 1, 0, 1, 1, 1, 1, 1, 1, 1, 0, 1, 1, 1, 1, 1, 0, 1, 1, 0,\n",
       "        1, 1, 1, 1, 1, 1, 1, 1, 1, 1, 1, 1, 0, 1, 0, 0, 1, 0, 1, 1, 1, 1,\n",
       "        1, 0, 1, 1, 0, 1, 0, 1, 1, 0, 1, 0, 1, 1, 1, 1, 1, 1, 1, 1, 0, 0,\n",
       "        1, 1, 1, 1, 1, 1, 0, 1, 1, 1, 1, 1, 1, 1, 1, 1, 1, 0, 1, 1, 1, 1,\n",
       "        1, 1, 1, 0, 1, 0, 1, 1, 0, 1, 1, 1, 1, 1, 0, 0, 1, 0, 1, 0, 1, 1,\n",
       "        1, 1, 1, 0, 1, 1, 0, 1, 0, 1, 0, 0, 1, 1, 1, 0, 1, 1, 1, 1, 1, 1,\n",
       "        1, 1, 1, 1, 1, 0, 1, 0, 0, 1, 1, 1, 1, 1, 1, 1, 1, 1, 1, 1, 1, 1,\n",
       "        1, 1, 1, 1, 1, 1, 1, 1, 1, 1, 1, 1, 0, 0, 0, 0, 0, 0, 1]),\n",
       " 'frame': None,\n",
       " 'target_names': array(['malignant', 'benign'], dtype='<U9'),\n",
       " 'DESCR': '.. _breast_cancer_dataset:\\n\\nBreast cancer wisconsin (diagnostic) dataset\\n--------------------------------------------\\n\\n**Data Set Characteristics:**\\n\\n    :Number of Instances: 569\\n\\n    :Number of Attributes: 30 numeric, predictive attributes and the class\\n\\n    :Attribute Information:\\n        - radius (mean of distances from center to points on the perimeter)\\n        - texture (standard deviation of gray-scale values)\\n        - perimeter\\n        - area\\n        - smoothness (local variation in radius lengths)\\n        - compactness (perimeter^2 / area - 1.0)\\n        - concavity (severity of concave portions of the contour)\\n        - concave points (number of concave portions of the contour)\\n        - symmetry\\n        - fractal dimension (\"coastline approximation\" - 1)\\n\\n        The mean, standard error, and \"worst\" or largest (mean of the three\\n        worst/largest values) of these features were computed for each image,\\n        resulting in 30 features.  For instance, field 0 is Mean Radius, field\\n        10 is Radius SE, field 20 is Worst Radius.\\n\\n        - class:\\n                - WDBC-Malignant\\n                - WDBC-Benign\\n\\n    :Summary Statistics:\\n\\n    ===================================== ====== ======\\n                                           Min    Max\\n    ===================================== ====== ======\\n    radius (mean):                        6.981  28.11\\n    texture (mean):                       9.71   39.28\\n    perimeter (mean):                     43.79  188.5\\n    area (mean):                          143.5  2501.0\\n    smoothness (mean):                    0.053  0.163\\n    compactness (mean):                   0.019  0.345\\n    concavity (mean):                     0.0    0.427\\n    concave points (mean):                0.0    0.201\\n    symmetry (mean):                      0.106  0.304\\n    fractal dimension (mean):             0.05   0.097\\n    radius (standard error):              0.112  2.873\\n    texture (standard error):             0.36   4.885\\n    perimeter (standard error):           0.757  21.98\\n    area (standard error):                6.802  542.2\\n    smoothness (standard error):          0.002  0.031\\n    compactness (standard error):         0.002  0.135\\n    concavity (standard error):           0.0    0.396\\n    concave points (standard error):      0.0    0.053\\n    symmetry (standard error):            0.008  0.079\\n    fractal dimension (standard error):   0.001  0.03\\n    radius (worst):                       7.93   36.04\\n    texture (worst):                      12.02  49.54\\n    perimeter (worst):                    50.41  251.2\\n    area (worst):                         185.2  4254.0\\n    smoothness (worst):                   0.071  0.223\\n    compactness (worst):                  0.027  1.058\\n    concavity (worst):                    0.0    1.252\\n    concave points (worst):               0.0    0.291\\n    symmetry (worst):                     0.156  0.664\\n    fractal dimension (worst):            0.055  0.208\\n    ===================================== ====== ======\\n\\n    :Missing Attribute Values: None\\n\\n    :Class Distribution: 212 - Malignant, 357 - Benign\\n\\n    :Creator:  Dr. William H. Wolberg, W. Nick Street, Olvi L. Mangasarian\\n\\n    :Donor: Nick Street\\n\\n    :Date: November, 1995\\n\\nThis is a copy of UCI ML Breast Cancer Wisconsin (Diagnostic) datasets.\\nhttps://goo.gl/U2Uwz2\\n\\nFeatures are computed from a digitized image of a fine needle\\naspirate (FNA) of a breast mass.  They describe\\ncharacteristics of the cell nuclei present in the image.\\n\\nSeparating plane described above was obtained using\\nMultisurface Method-Tree (MSM-T) [K. P. Bennett, \"Decision Tree\\nConstruction Via Linear Programming.\" Proceedings of the 4th\\nMidwest Artificial Intelligence and Cognitive Science Society,\\npp. 97-101, 1992], a classification method which uses linear\\nprogramming to construct a decision tree.  Relevant features\\nwere selected using an exhaustive search in the space of 1-4\\nfeatures and 1-3 separating planes.\\n\\nThe actual linear program used to obtain the separating plane\\nin the 3-dimensional space is that described in:\\n[K. P. Bennett and O. L. Mangasarian: \"Robust Linear\\nProgramming Discrimination of Two Linearly Inseparable Sets\",\\nOptimization Methods and Software 1, 1992, 23-34].\\n\\nThis database is also available through the UW CS ftp server:\\n\\nftp ftp.cs.wisc.edu\\ncd math-prog/cpo-dataset/machine-learn/WDBC/\\n\\n.. topic:: References\\n\\n   - W.N. Street, W.H. Wolberg and O.L. Mangasarian. Nuclear feature extraction \\n     for breast tumor diagnosis. IS&T/SPIE 1993 International Symposium on \\n     Electronic Imaging: Science and Technology, volume 1905, pages 861-870,\\n     San Jose, CA, 1993.\\n   - O.L. Mangasarian, W.N. Street and W.H. Wolberg. Breast cancer diagnosis and \\n     prognosis via linear programming. Operations Research, 43(4), pages 570-577, \\n     July-August 1995.\\n   - W.H. Wolberg, W.N. Street, and O.L. Mangasarian. Machine learning techniques\\n     to diagnose breast cancer from fine-needle aspirates. Cancer Letters 77 (1994) \\n     163-171.',\n",
       " 'feature_names': array(['mean radius', 'mean texture', 'mean perimeter', 'mean area',\n",
       "        'mean smoothness', 'mean compactness', 'mean concavity',\n",
       "        'mean concave points', 'mean symmetry', 'mean fractal dimension',\n",
       "        'radius error', 'texture error', 'perimeter error', 'area error',\n",
       "        'smoothness error', 'compactness error', 'concavity error',\n",
       "        'concave points error', 'symmetry error',\n",
       "        'fractal dimension error', 'worst radius', 'worst texture',\n",
       "        'worst perimeter', 'worst area', 'worst smoothness',\n",
       "        'worst compactness', 'worst concavity', 'worst concave points',\n",
       "        'worst symmetry', 'worst fractal dimension'], dtype='<U23'),\n",
       " 'filename': 'C:\\\\Anaconda3\\\\lib\\\\site-packages\\\\sklearn\\\\datasets\\\\data\\\\breast_cancer.csv'}"
      ]
     },
     "execution_count": 23,
     "metadata": {},
     "output_type": "execute_result"
    }
   ],
   "source": [
    "# Visualiza o objeto\n",
    "temp"
   ]
  },
  {
   "cell_type": "code",
   "execution_count": 24,
   "metadata": {},
   "outputs": [],
   "source": [
    "# Carregamos o dataset\n",
    "dados = pd.DataFrame(columns = load_breast_cancer()[\"feature_names\"], data = load_breast_cancer()[\"data\"])"
   ]
  },
  {
   "cell_type": "code",
   "execution_count": 25,
   "metadata": {},
   "outputs": [
    {
     "data": {
      "text/plain": [
       "(569, 30)"
      ]
     },
     "execution_count": 25,
     "metadata": {},
     "output_type": "execute_result"
    }
   ],
   "source": [
    "# Shape\n",
    "dados.shape"
   ]
  },
  {
   "cell_type": "code",
   "execution_count": 26,
   "metadata": {},
   "outputs": [
    {
     "data": {
      "text/html": [
       "<div>\n",
       "<style scoped>\n",
       "    .dataframe tbody tr th:only-of-type {\n",
       "        vertical-align: middle;\n",
       "    }\n",
       "\n",
       "    .dataframe tbody tr th {\n",
       "        vertical-align: top;\n",
       "    }\n",
       "\n",
       "    .dataframe thead th {\n",
       "        text-align: right;\n",
       "    }\n",
       "</style>\n",
       "<table border=\"1\" class=\"dataframe\">\n",
       "  <thead>\n",
       "    <tr style=\"text-align: right;\">\n",
       "      <th></th>\n",
       "      <th>mean radius</th>\n",
       "      <th>mean texture</th>\n",
       "      <th>mean perimeter</th>\n",
       "      <th>mean area</th>\n",
       "      <th>mean smoothness</th>\n",
       "      <th>mean compactness</th>\n",
       "      <th>mean concavity</th>\n",
       "      <th>mean concave points</th>\n",
       "      <th>mean symmetry</th>\n",
       "      <th>mean fractal dimension</th>\n",
       "      <th>...</th>\n",
       "      <th>worst radius</th>\n",
       "      <th>worst texture</th>\n",
       "      <th>worst perimeter</th>\n",
       "      <th>worst area</th>\n",
       "      <th>worst smoothness</th>\n",
       "      <th>worst compactness</th>\n",
       "      <th>worst concavity</th>\n",
       "      <th>worst concave points</th>\n",
       "      <th>worst symmetry</th>\n",
       "      <th>worst fractal dimension</th>\n",
       "    </tr>\n",
       "  </thead>\n",
       "  <tbody>\n",
       "    <tr>\n",
       "      <th>0</th>\n",
       "      <td>17.99</td>\n",
       "      <td>10.38</td>\n",
       "      <td>122.80</td>\n",
       "      <td>1001.0</td>\n",
       "      <td>0.11840</td>\n",
       "      <td>0.27760</td>\n",
       "      <td>0.3001</td>\n",
       "      <td>0.14710</td>\n",
       "      <td>0.2419</td>\n",
       "      <td>0.07871</td>\n",
       "      <td>...</td>\n",
       "      <td>25.38</td>\n",
       "      <td>17.33</td>\n",
       "      <td>184.60</td>\n",
       "      <td>2019.0</td>\n",
       "      <td>0.1622</td>\n",
       "      <td>0.6656</td>\n",
       "      <td>0.7119</td>\n",
       "      <td>0.2654</td>\n",
       "      <td>0.4601</td>\n",
       "      <td>0.11890</td>\n",
       "    </tr>\n",
       "    <tr>\n",
       "      <th>1</th>\n",
       "      <td>20.57</td>\n",
       "      <td>17.77</td>\n",
       "      <td>132.90</td>\n",
       "      <td>1326.0</td>\n",
       "      <td>0.08474</td>\n",
       "      <td>0.07864</td>\n",
       "      <td>0.0869</td>\n",
       "      <td>0.07017</td>\n",
       "      <td>0.1812</td>\n",
       "      <td>0.05667</td>\n",
       "      <td>...</td>\n",
       "      <td>24.99</td>\n",
       "      <td>23.41</td>\n",
       "      <td>158.80</td>\n",
       "      <td>1956.0</td>\n",
       "      <td>0.1238</td>\n",
       "      <td>0.1866</td>\n",
       "      <td>0.2416</td>\n",
       "      <td>0.1860</td>\n",
       "      <td>0.2750</td>\n",
       "      <td>0.08902</td>\n",
       "    </tr>\n",
       "    <tr>\n",
       "      <th>2</th>\n",
       "      <td>19.69</td>\n",
       "      <td>21.25</td>\n",
       "      <td>130.00</td>\n",
       "      <td>1203.0</td>\n",
       "      <td>0.10960</td>\n",
       "      <td>0.15990</td>\n",
       "      <td>0.1974</td>\n",
       "      <td>0.12790</td>\n",
       "      <td>0.2069</td>\n",
       "      <td>0.05999</td>\n",
       "      <td>...</td>\n",
       "      <td>23.57</td>\n",
       "      <td>25.53</td>\n",
       "      <td>152.50</td>\n",
       "      <td>1709.0</td>\n",
       "      <td>0.1444</td>\n",
       "      <td>0.4245</td>\n",
       "      <td>0.4504</td>\n",
       "      <td>0.2430</td>\n",
       "      <td>0.3613</td>\n",
       "      <td>0.08758</td>\n",
       "    </tr>\n",
       "    <tr>\n",
       "      <th>3</th>\n",
       "      <td>11.42</td>\n",
       "      <td>20.38</td>\n",
       "      <td>77.58</td>\n",
       "      <td>386.1</td>\n",
       "      <td>0.14250</td>\n",
       "      <td>0.28390</td>\n",
       "      <td>0.2414</td>\n",
       "      <td>0.10520</td>\n",
       "      <td>0.2597</td>\n",
       "      <td>0.09744</td>\n",
       "      <td>...</td>\n",
       "      <td>14.91</td>\n",
       "      <td>26.50</td>\n",
       "      <td>98.87</td>\n",
       "      <td>567.7</td>\n",
       "      <td>0.2098</td>\n",
       "      <td>0.8663</td>\n",
       "      <td>0.6869</td>\n",
       "      <td>0.2575</td>\n",
       "      <td>0.6638</td>\n",
       "      <td>0.17300</td>\n",
       "    </tr>\n",
       "    <tr>\n",
       "      <th>4</th>\n",
       "      <td>20.29</td>\n",
       "      <td>14.34</td>\n",
       "      <td>135.10</td>\n",
       "      <td>1297.0</td>\n",
       "      <td>0.10030</td>\n",
       "      <td>0.13280</td>\n",
       "      <td>0.1980</td>\n",
       "      <td>0.10430</td>\n",
       "      <td>0.1809</td>\n",
       "      <td>0.05883</td>\n",
       "      <td>...</td>\n",
       "      <td>22.54</td>\n",
       "      <td>16.67</td>\n",
       "      <td>152.20</td>\n",
       "      <td>1575.0</td>\n",
       "      <td>0.1374</td>\n",
       "      <td>0.2050</td>\n",
       "      <td>0.4000</td>\n",
       "      <td>0.1625</td>\n",
       "      <td>0.2364</td>\n",
       "      <td>0.07678</td>\n",
       "    </tr>\n",
       "  </tbody>\n",
       "</table>\n",
       "<p>5 rows × 30 columns</p>\n",
       "</div>"
      ],
      "text/plain": [
       "   mean radius  mean texture  mean perimeter  mean area  mean smoothness  \\\n",
       "0        17.99         10.38          122.80     1001.0          0.11840   \n",
       "1        20.57         17.77          132.90     1326.0          0.08474   \n",
       "2        19.69         21.25          130.00     1203.0          0.10960   \n",
       "3        11.42         20.38           77.58      386.1          0.14250   \n",
       "4        20.29         14.34          135.10     1297.0          0.10030   \n",
       "\n",
       "   mean compactness  mean concavity  mean concave points  mean symmetry  \\\n",
       "0           0.27760          0.3001              0.14710         0.2419   \n",
       "1           0.07864          0.0869              0.07017         0.1812   \n",
       "2           0.15990          0.1974              0.12790         0.2069   \n",
       "3           0.28390          0.2414              0.10520         0.2597   \n",
       "4           0.13280          0.1980              0.10430         0.1809   \n",
       "\n",
       "   mean fractal dimension  ...  worst radius  worst texture  worst perimeter  \\\n",
       "0                 0.07871  ...         25.38          17.33           184.60   \n",
       "1                 0.05667  ...         24.99          23.41           158.80   \n",
       "2                 0.05999  ...         23.57          25.53           152.50   \n",
       "3                 0.09744  ...         14.91          26.50            98.87   \n",
       "4                 0.05883  ...         22.54          16.67           152.20   \n",
       "\n",
       "   worst area  worst smoothness  worst compactness  worst concavity  \\\n",
       "0      2019.0            0.1622             0.6656           0.7119   \n",
       "1      1956.0            0.1238             0.1866           0.2416   \n",
       "2      1709.0            0.1444             0.4245           0.4504   \n",
       "3       567.7            0.2098             0.8663           0.6869   \n",
       "4      1575.0            0.1374             0.2050           0.4000   \n",
       "\n",
       "   worst concave points  worst symmetry  worst fractal dimension  \n",
       "0                0.2654          0.4601                  0.11890  \n",
       "1                0.1860          0.2750                  0.08902  \n",
       "2                0.2430          0.3613                  0.08758  \n",
       "3                0.2575          0.6638                  0.17300  \n",
       "4                0.1625          0.2364                  0.07678  \n",
       "\n",
       "[5 rows x 30 columns]"
      ]
     },
     "execution_count": 26,
     "metadata": {},
     "output_type": "execute_result"
    }
   ],
   "source": [
    "# Visualiza os dados\n",
    "dados.head()"
   ]
  },
  {
   "cell_type": "code",
   "execution_count": 30,
   "metadata": {},
   "outputs": [
    {
     "data": {
      "text/plain": [
       "mean radius                False\n",
       "mean texture               False\n",
       "mean perimeter             False\n",
       "mean area                  False\n",
       "mean smoothness            False\n",
       "mean compactness           False\n",
       "mean concavity             False\n",
       "mean concave points        False\n",
       "mean symmetry              False\n",
       "mean fractal dimension     False\n",
       "radius error               False\n",
       "texture error              False\n",
       "perimeter error            False\n",
       "area error                 False\n",
       "smoothness error           False\n",
       "compactness error          False\n",
       "concavity error            False\n",
       "concave points error       False\n",
       "symmetry error             False\n",
       "fractal dimension error    False\n",
       "worst radius               False\n",
       "worst texture              False\n",
       "worst perimeter            False\n",
       "worst area                 False\n",
       "worst smoothness           False\n",
       "worst compactness          False\n",
       "worst concavity            False\n",
       "worst concave points       False\n",
       "worst symmetry             False\n",
       "worst fractal dimension    False\n",
       "dtype: bool"
      ]
     },
     "execution_count": 30,
     "metadata": {},
     "output_type": "execute_result"
    }
   ],
   "source": [
    "# Verifica se temos valores ausentes\n",
    "dados.isnull().any()"
   ]
  },
  {
   "cell_type": "code",
   "execution_count": 31,
   "metadata": {},
   "outputs": [],
   "source": [
    "# Separa a variável target\n",
    "target = load_breast_cancer()[\"target\"]"
   ]
  },
  {
   "cell_type": "code",
   "execution_count": 32,
   "metadata": {},
   "outputs": [
    {
     "data": {
      "text/plain": [
       "numpy.ndarray"
      ]
     },
     "execution_count": 32,
     "metadata": {},
     "output_type": "execute_result"
    }
   ],
   "source": [
    "type(target)"
   ]
  },
  {
   "cell_type": "code",
   "execution_count": 33,
   "metadata": {},
   "outputs": [
    {
     "data": {
      "text/plain": [
       "array([0, 0, 0, 0, 0, 0, 0, 0, 0, 0, 0, 0, 0, 0, 0, 0, 0, 0, 0, 1, 1, 1,\n",
       "       0, 0, 0, 0, 0, 0, 0, 0, 0, 0, 0, 0, 0, 0, 0, 1, 0, 0, 0, 0, 0, 0,\n",
       "       0, 0, 1, 0, 1, 1, 1, 1, 1, 0, 0, 1, 0, 0, 1, 1, 1, 1, 0, 1, 0, 0,\n",
       "       1, 1, 1, 1, 0, 1, 0, 0, 1, 0, 1, 0, 0, 1, 1, 1, 0, 0, 1, 0, 0, 0,\n",
       "       1, 1, 1, 0, 1, 1, 0, 0, 1, 1, 1, 0, 0, 1, 1, 1, 1, 0, 1, 1, 0, 1,\n",
       "       1, 1, 1, 1, 1, 1, 1, 0, 0, 0, 1, 0, 0, 1, 1, 1, 0, 0, 1, 0, 1, 0,\n",
       "       0, 1, 0, 0, 1, 1, 0, 1, 1, 0, 1, 1, 1, 1, 0, 1, 1, 1, 1, 1, 1, 1,\n",
       "       1, 1, 0, 1, 1, 1, 1, 0, 0, 1, 0, 1, 1, 0, 0, 1, 1, 0, 0, 1, 1, 1,\n",
       "       1, 0, 1, 1, 0, 0, 0, 1, 0, 1, 0, 1, 1, 1, 0, 1, 1, 0, 0, 1, 0, 0,\n",
       "       0, 0, 1, 0, 0, 0, 1, 0, 1, 0, 1, 1, 0, 1, 0, 0, 0, 0, 1, 1, 0, 0,\n",
       "       1, 1, 1, 0, 1, 1, 1, 1, 1, 0, 0, 1, 1, 0, 1, 1, 0, 0, 1, 0, 1, 1,\n",
       "       1, 1, 0, 1, 1, 1, 1, 1, 0, 1, 0, 0, 0, 0, 0, 0, 0, 0, 0, 0, 0, 0,\n",
       "       0, 0, 1, 1, 1, 1, 1, 1, 0, 1, 0, 1, 1, 0, 1, 1, 0, 1, 0, 0, 1, 1,\n",
       "       1, 1, 1, 1, 1, 1, 1, 1, 1, 1, 1, 0, 1, 1, 0, 1, 0, 1, 1, 1, 1, 1,\n",
       "       1, 1, 1, 1, 1, 1, 1, 1, 1, 0, 1, 1, 1, 0, 1, 0, 1, 1, 1, 1, 0, 0,\n",
       "       0, 1, 1, 1, 1, 0, 1, 0, 1, 0, 1, 1, 1, 0, 1, 1, 1, 1, 1, 1, 1, 0,\n",
       "       0, 0, 1, 1, 1, 1, 1, 1, 1, 1, 1, 1, 1, 0, 0, 1, 0, 0, 0, 1, 0, 0,\n",
       "       1, 1, 1, 1, 1, 0, 1, 1, 1, 1, 1, 0, 1, 1, 1, 0, 1, 1, 0, 0, 1, 1,\n",
       "       1, 1, 1, 1, 0, 1, 1, 1, 1, 1, 1, 1, 0, 1, 1, 1, 1, 1, 0, 1, 1, 0,\n",
       "       1, 1, 1, 1, 1, 1, 1, 1, 1, 1, 1, 1, 0, 1, 0, 0, 1, 0, 1, 1, 1, 1,\n",
       "       1, 0, 1, 1, 0, 1, 0, 1, 1, 0, 1, 0, 1, 1, 1, 1, 1, 1, 1, 1, 0, 0,\n",
       "       1, 1, 1, 1, 1, 1, 0, 1, 1, 1, 1, 1, 1, 1, 1, 1, 1, 0, 1, 1, 1, 1,\n",
       "       1, 1, 1, 0, 1, 0, 1, 1, 0, 1, 1, 1, 1, 1, 0, 0, 1, 0, 1, 0, 1, 1,\n",
       "       1, 1, 1, 0, 1, 1, 0, 1, 0, 1, 0, 0, 1, 1, 1, 0, 1, 1, 1, 1, 1, 1,\n",
       "       1, 1, 1, 1, 1, 0, 1, 0, 0, 1, 1, 1, 1, 1, 1, 1, 1, 1, 1, 1, 1, 1,\n",
       "       1, 1, 1, 1, 1, 1, 1, 1, 1, 1, 1, 1, 0, 0, 0, 0, 0, 0, 1])"
      ]
     },
     "execution_count": 33,
     "metadata": {},
     "output_type": "execute_result"
    }
   ],
   "source": [
    "# Visualiza a variável\n",
    "target"
   ]
  },
  {
   "cell_type": "code",
   "execution_count": 34,
   "metadata": {},
   "outputs": [
    {
     "data": {
      "text/plain": [
       "357"
      ]
     },
     "execution_count": 34,
     "metadata": {},
     "output_type": "execute_result"
    }
   ],
   "source": [
    "# Total de registros por classe - Câncer Benigno\n",
    "np.count_nonzero(target == 1)"
   ]
  },
  {
   "cell_type": "code",
   "execution_count": 35,
   "metadata": {},
   "outputs": [
    {
     "data": {
      "text/plain": [
       "212"
      ]
     },
     "execution_count": 35,
     "metadata": {},
     "output_type": "execute_result"
    }
   ],
   "source": [
    "# Total de registros por classe - Câncer Maligno\n",
    "np.count_nonzero(target == 0)"
   ]
  },
  {
   "cell_type": "code",
   "execution_count": 36,
   "metadata": {},
   "outputs": [],
   "source": [
    "# Nomes das classes da variável target\n",
    "target_names = load_breast_cancer()[\"target_names\"]"
   ]
  },
  {
   "cell_type": "code",
   "execution_count": 37,
   "metadata": {},
   "outputs": [
    {
     "data": {
      "text/plain": [
       "array(['malignant', 'benign'], dtype='<U9')"
      ]
     },
     "execution_count": 37,
     "metadata": {},
     "output_type": "execute_result"
    }
   ],
   "source": [
    "target_names"
   ]
  },
  {
   "cell_type": "code",
   "execution_count": 41,
   "metadata": {},
   "outputs": [],
   "source": [
    "# Extrair os labels\n",
    "\n",
    "# Dicionário para os labels\n",
    "labels = {}\n",
    "\n",
    "# Mapeamento\n",
    "for i in range(len(target_names)):\n",
    "    labels.update({i:target_names[i]})"
   ]
  },
  {
   "cell_type": "code",
   "execution_count": 42,
   "metadata": {},
   "outputs": [
    {
     "data": {
      "text/plain": [
       "{0: 'malignant', 1: 'benign'}"
      ]
     },
     "execution_count": 42,
     "metadata": {},
     "output_type": "execute_result"
    }
   ],
   "source": [
    "# Visualiza os labels\n",
    "labels"
   ]
  },
  {
   "cell_type": "code",
   "execution_count": 43,
   "metadata": {},
   "outputs": [],
   "source": [
    "# Agora preparamos as variáveis preditoras em X\n",
    "X = np.array(dados)"
   ]
  },
  {
   "cell_type": "code",
   "execution_count": 44,
   "metadata": {},
   "outputs": [],
   "source": [
    "# Dividimos os dados de entrada e saída em treino e teste\n",
    "X_treino, X_teste, y_treino, y_teste = train_test_split(X, target, test_size = 0.15, shuffle = True)"
   ]
  },
  {
   "cell_type": "code",
   "execution_count": 45,
   "metadata": {},
   "outputs": [
    {
     "name": "stdout",
     "output_type": "stream",
     "text": [
      "(483, 30)\n",
      "(483,)\n"
     ]
    }
   ],
   "source": [
    "# Shape dos dados de treino\n",
    "print(X_treino.shape)\n",
    "print(y_treino.shape)"
   ]
  },
  {
   "cell_type": "code",
   "execution_count": 46,
   "metadata": {},
   "outputs": [],
   "source": [
    "# Ajusta o shape dos dados de entrada\n",
    "X_treino = X_treino.T\n",
    "X_teste = X_teste.T"
   ]
  },
  {
   "cell_type": "code",
   "execution_count": 47,
   "metadata": {},
   "outputs": [
    {
     "name": "stdout",
     "output_type": "stream",
     "text": [
      "(30, 483)\n",
      "(30, 86)\n"
     ]
    }
   ],
   "source": [
    "print(X_treino.shape)\n",
    "print(X_teste.shape)"
   ]
  },
  {
   "cell_type": "code",
   "execution_count": 48,
   "metadata": {},
   "outputs": [],
   "source": [
    "# Precisamos ajustar também os dados de saída\n",
    "y_treino = y_treino.reshape(1, len(y_treino))\n",
    "y_teste = y_teste.reshape(1, len(y_teste))"
   ]
  },
  {
   "cell_type": "code",
   "execution_count": 49,
   "metadata": {},
   "outputs": [
    {
     "name": "stdout",
     "output_type": "stream",
     "text": [
      "(1, 483)\n",
      "(1, 86)\n"
     ]
    }
   ],
   "source": [
    "print(y_treino.shape)\n",
    "print(y_teste.shape)"
   ]
  },
  {
   "cell_type": "code",
   "execution_count": 50,
   "metadata": {},
   "outputs": [],
   "source": [
    "# Variável com as dimensões de entrada para o número de neurônios \n",
    "dims_camada_entrada = [X_treino.shape[0], 50, 20, 5, 1]"
   ]
  },
  {
   "cell_type": "code",
   "execution_count": 53,
   "metadata": {},
   "outputs": [
    {
     "name": "stdout",
     "output_type": "stream",
     "text": [
      "\n",
      "Iniciando o Treinamento.\n",
      "\n",
      "Custo Após 0 iterações é 0.6931403612710852\n",
      "Custo Após 10 iterações é 0.6922320846114421\n",
      "Custo Após 20 iterações é 0.6913579481239872\n",
      "Custo Após 30 iterações é 0.690516035818632\n",
      "Custo Após 40 iterações é 0.6897049514873573\n",
      "Custo Após 50 iterações é 0.6889234708365608\n",
      "Custo Após 60 iterações é 0.6881704585017931\n",
      "Custo Após 70 iterações é 0.6874448192867983\n",
      "Custo Após 80 iterações é 0.6867455080178212\n",
      "Custo Após 90 iterações é 0.6860715211833015\n",
      "Custo Após 100 iterações é 0.6854218976088503\n",
      "Custo Após 110 iterações é 0.6847958277284057\n",
      "Custo Após 120 iterações é 0.6841936760515682\n",
      "Custo Após 130 iterações é 0.6836134955550186\n",
      "Custo Após 140 iterações é 0.6830543418705953\n",
      "Custo Após 150 iterações é 0.6825153944724133\n",
      "Custo Após 160 iterações é 0.6819958734471148\n",
      "Custo Após 170 iterações é 0.6814950277658189\n",
      "Custo Após 180 iterações é 0.681012122609631\n",
      "Custo Após 190 iterações é 0.68054644948781\n",
      "Custo Após 200 iterações é 0.6800973203457263\n",
      "Custo Após 210 iterações é 0.6796640766535729\n",
      "Custo Após 220 iterações é 0.6792460741465236\n",
      "Custo Após 230 iterações é 0.6788426853723442\n",
      "Custo Após 240 iterações é 0.6784532902014108\n",
      "Custo Após 250 iterações é 0.6780772901987123\n",
      "Custo Após 260 iterações é 0.677714096392225\n",
      "Custo Após 270 iterações é 0.6773631276461516\n",
      "Custo Após 280 iterações é 0.6770238060198052\n",
      "Custo Após 290 iterações é 0.6766955655180815\n",
      "Custo Após 300 iterações é 0.6763778403977805\n",
      "Custo Após 310 iterações é 0.6760700489130592\n",
      "Custo Após 320 iterações é 0.6757715990250995\n",
      "Custo Após 330 iterações é 0.6754818910360282\n",
      "Custo Após 340 iterações é 0.6752003021582476\n",
      "Custo Após 350 iterações é 0.6749261795061614\n",
      "Custo Após 360 iterações é 0.6746588264157795\n",
      "Custo Após 370 iterações é 0.6743974756734727\n",
      "Custo Após 380 iterações é 0.6741412921987416\n",
      "Custo Após 390 iterações é 0.673889347257685\n",
      "Custo Após 400 iterações é 0.673640523249893\n",
      "Custo Após 410 iterações é 0.6733934191705377\n",
      "Custo Após 420 iterações é 0.6731461376614374\n",
      "Custo Após 430 iterações é 0.672897359126046\n",
      "Custo Após 440 iterações é 0.6726456379623676\n",
      "Custo Após 450 iterações é 0.6723881025530509\n",
      "Custo Após 460 iterações é 0.672120953629284\n",
      "Custo Após 470 iterações é 0.6718395195385318\n",
      "Custo Após 480 iterações é 0.6715376064461646\n",
      "Custo Após 490 iterações é 0.6712067968684106\n",
      "Custo Após 500 iterações é 0.6708351850652879\n",
      "Custo Após 510 iterações é 0.6704056988687525\n",
      "Custo Após 520 iterações é 0.669893079255095\n",
      "Custo Após 530 iterações é 0.6692589033088641\n",
      "Custo Após 540 iterações é 0.6684423410650167\n",
      "Custo Após 550 iterações é 0.6673420250006437\n",
      "Custo Após 560 iterações é 0.6657922434009158\n",
      "Custo Após 570 iterações é 0.6634887218824653\n",
      "Custo Após 580 iterações é 0.6598811509513107\n",
      "Custo Após 590 iterações é 0.6540072867434716\n",
      "Custo Após 600 iterações é 0.6446007386914766\n",
      "Custo Após 610 iterações é 0.6320343112525545\n",
      "Custo Após 620 iterações é 0.621649800862738\n",
      "Custo Após 630 iterações é 0.6165984342579007\n",
      "Custo Após 640 iterações é 0.6135970486633427\n",
      "Custo Após 650 iterações é 0.610864022211732\n",
      "Custo Após 660 iterações é 0.6081321722499268\n",
      "Custo Após 670 iterações é 0.6053740361048874\n",
      "Custo Após 680 iterações é 0.6025816423772595\n",
      "Custo Após 690 iterações é 0.5997470110757586\n",
      "Custo Após 700 iterações é 0.5968604990784658\n",
      "Custo Após 710 iterações é 0.5939105119395293\n",
      "Custo Após 720 iterações é 0.5908826813602442\n",
      "Custo Após 730 iterações é 0.5877584780913209\n",
      "Custo Após 740 iterações é 0.5845142080776478\n",
      "Custo Após 750 iterações é 0.5811194801804324\n",
      "Custo Após 760 iterações é 0.5775330365067867\n",
      "Custo Após 770 iterações é 0.5736998459404836\n",
      "Custo Após 780 iterações é 0.5695458022420304\n",
      "Custo Após 790 iterações é 0.5649659112436616\n",
      "Custo Após 800 iterações é 0.5598135792023728\n",
      "Custo Após 810 iterações é 0.5538866857872466\n",
      "Custo Após 820 iterações é 0.5469584031996769\n",
      "Custo Após 830 iterações é 0.5386359159922525\n",
      "Custo Após 840 iterações é 0.5283368503060784\n",
      "Custo Após 850 iterações é 0.5154666584086769\n",
      "Custo Após 860 iterações é 0.49979159336939105\n",
      "Custo Após 870 iterações é 0.4808519854981253\n",
      "Custo Após 880 iterações é 0.4595286904134206\n",
      "Custo Após 890 iterações é 0.43984224340750794\n",
      "Custo Após 900 iterações é 0.5026912310580269\n",
      "Custo Após 910 iterações é 0.4742488944968332\n",
      "Custo Após 920 iterações é 0.464110478507309\n",
      "Custo Após 930 iterações é 0.4594537730002787\n",
      "Custo Após 940 iterações é 0.45559249286682046\n",
      "Custo Após 950 iterações é 0.44934506318284584\n",
      "Custo Após 960 iterações é 0.4454265451150482\n",
      "Custo Após 970 iterações é 0.44155507190387283\n",
      "Custo Após 980 iterações é 0.4367694057457264\n",
      "Custo Após 990 iterações é 0.4299301211851149\n",
      "Custo Após 1000 iterações é 0.42502332326918474\n",
      "Custo Após 1010 iterações é 0.4201994828530133\n",
      "Custo Após 1020 iterações é 0.41158703063593793\n",
      "Custo Após 1030 iterações é 0.40678355504061975\n",
      "Custo Após 1040 iterações é 0.40291473083828416\n",
      "Custo Após 1050 iterações é 0.4000337049552065\n",
      "Custo Após 1060 iterações é 0.3950400042677204\n",
      "Custo Após 1070 iterações é 0.38868250473242183\n",
      "Custo Após 1080 iterações é 0.3840321527183734\n",
      "Custo Após 1090 iterações é 0.381811294464705\n",
      "Custo Após 1100 iterações é 0.37655512404711033\n",
      "Custo Após 1110 iterações é 0.3742068031556137\n",
      "Custo Após 1120 iterações é 0.3711915979909774\n",
      "Custo Após 1130 iterações é 0.36981558656268687\n",
      "Custo Após 1140 iterações é 0.3653694586217071\n",
      "Custo Após 1150 iterações é 0.3609780358646643\n",
      "Custo Após 1160 iterações é 0.35911254900132816\n",
      "Custo Após 1170 iterações é 0.35761362864041507\n",
      "Custo Após 1180 iterações é 0.3569884285921495\n",
      "Custo Após 1190 iterações é 0.35576716893670857\n",
      "Custo Após 1200 iterações é 0.3532930317423543\n",
      "Custo Após 1210 iterações é 0.3487046898116392\n",
      "Custo Após 1220 iterações é 0.3472788008057966\n",
      "Custo Após 1230 iterações é 0.34518214973656974\n",
      "Custo Após 1240 iterações é 0.3422539461696492\n",
      "Custo Após 1250 iterações é 0.34110850703305656\n",
      "Custo Após 1260 iterações é 0.33817340498675774\n",
      "Custo Após 1270 iterações é 0.33817849962997054\n",
      "Custo Após 1280 iterações é 0.33385955757473484\n",
      "Custo Após 1290 iterações é 0.33362186040418423\n",
      "Custo Após 1300 iterações é 0.3325849348120072\n",
      "Custo Após 1310 iterações é 0.3324334962929029\n",
      "Custo Após 1320 iterações é 0.32965479408054127\n",
      "Custo Após 1330 iterações é 0.3297497474410944\n",
      "Custo Após 1340 iterações é 0.32931683047595045\n",
      "Custo Após 1350 iterações é 0.3288237136348391\n",
      "Custo Após 1360 iterações é 0.32952558209738686\n",
      "Custo Após 1370 iterações é 0.32168325379451096\n",
      "Custo Após 1380 iterações é 0.3219861714025867\n",
      "Custo Após 1390 iterações é 0.3199982331431169\n",
      "Custo Após 1400 iterações é 0.31883909578514597\n",
      "Custo Após 1410 iterações é 0.31967744292672456\n",
      "Custo Após 1420 iterações é 0.31914009251941927\n",
      "Custo Após 1430 iterações é 0.31534088228676443\n",
      "Custo Após 1440 iterações é 0.31445297824780827\n",
      "Custo Após 1450 iterações é 0.31253686491624866\n",
      "Custo Após 1460 iterações é 0.310867005572304\n",
      "Custo Após 1470 iterações é 0.30911073918559856\n",
      "Custo Após 1480 iterações é 0.31014239686474493\n",
      "Custo Após 1490 iterações é 0.309893728562579\n",
      "Custo Após 1500 iterações é 0.3073927481812993\n",
      "Custo Após 1510 iterações é 0.30321039007467054\n",
      "Custo Após 1520 iterações é 0.3035105679585914\n",
      "Custo Após 1530 iterações é 0.3018686730899122\n",
      "Custo Após 1540 iterações é 0.2962293106463255\n",
      "Custo Após 1550 iterações é 0.2905271467958943\n",
      "Custo Após 1560 iterações é 0.28938178591888464\n",
      "Custo Após 1570 iterações é 0.2863483503132522\n",
      "Custo Após 1580 iterações é 0.2905898786784961\n",
      "Custo Após 1590 iterações é 0.2875788304419279\n",
      "Custo Após 1600 iterações é 0.2866430267550827\n",
      "Custo Após 1610 iterações é 0.28437944585028546\n",
      "Custo Após 1620 iterações é 0.2856942721190606\n",
      "Custo Após 1630 iterações é 0.28380664351706475\n",
      "Custo Após 1640 iterações é 0.28603044063805705\n",
      "Custo Após 1650 iterações é 0.28345386960251984\n",
      "Custo Após 1660 iterações é 0.2826007753700594\n",
      "Custo Após 1670 iterações é 0.2830685282673781\n",
      "Custo Após 1680 iterações é 0.2802034821320511\n",
      "Custo Após 1690 iterações é 0.28445828339295703\n",
      "Custo Após 1700 iterações é 0.2783611744196313\n",
      "Custo Após 1710 iterações é 0.2828290242450944\n",
      "Custo Após 1720 iterações é 0.28101599582411857\n",
      "Custo Após 1730 iterações é 0.2791887916976562\n",
      "Custo Após 1740 iterações é 0.278046029222233\n"
     ]
    },
    {
     "name": "stdout",
     "output_type": "stream",
     "text": [
      "Custo Após 1750 iterações é 0.2777562784665194\n",
      "Custo Após 1760 iterações é 0.27629531195384616\n",
      "Custo Após 1770 iterações é 0.2771516281277458\n",
      "Custo Após 1780 iterações é 0.2755453346082695\n",
      "Custo Após 1790 iterações é 0.2742710559623301\n",
      "Custo Após 1800 iterações é 0.2756171300066129\n",
      "Custo Após 1810 iterações é 0.27592198432960185\n",
      "Custo Após 1820 iterações é 0.2671924627958935\n",
      "Custo Após 1830 iterações é 0.26149820381679845\n",
      "Custo Após 1840 iterações é 0.2595356870175787\n",
      "Custo Após 1850 iterações é 0.25855247886820143\n",
      "Custo Após 1860 iterações é 0.2589751519632969\n",
      "Custo Após 1870 iterações é 0.2609327369084812\n",
      "Custo Após 1880 iterações é 0.2632871731375996\n",
      "Custo Após 1890 iterações é 0.26681511548253334\n",
      "Custo Após 1900 iterações é 0.2756365498389472\n",
      "Custo Após 1910 iterações é 0.27161041831605964\n",
      "Custo Após 1920 iterações é 0.26570194749678616\n",
      "Custo Após 1930 iterações é 0.27087799803281454\n",
      "Custo Após 1940 iterações é 0.2670303289148116\n",
      "Custo Após 1950 iterações é 0.2638444832200825\n",
      "Custo Após 1960 iterações é 0.2543739151032892\n",
      "Custo Após 1970 iterações é 0.25525851087778917\n",
      "Custo Após 1980 iterações é 0.26539216328375886\n",
      "Custo Após 1990 iterações é 0.26390325101515383\n",
      "Custo Após 2000 iterações é 0.2616768530157986\n",
      "Custo Após 2010 iterações é 0.25696981850026523\n",
      "Custo Após 2020 iterações é 0.2511021666711293\n",
      "Custo Após 2030 iterações é 0.2518581577382272\n",
      "Custo Após 2040 iterações é 0.2507842294560296\n",
      "Custo Após 2050 iterações é 0.25092465312193596\n",
      "Custo Após 2060 iterações é 0.2622097110978352\n",
      "Custo Após 2070 iterações é 0.26172074211399515\n",
      "Custo Após 2080 iterações é 0.26050888440965553\n",
      "Custo Após 2090 iterações é 0.2578194930220129\n",
      "Custo Após 2100 iterações é 0.2565251990194121\n",
      "Custo Após 2110 iterações é 0.2493311824022586\n",
      "Custo Após 2120 iterações é 0.24775073350901727\n",
      "Custo Após 2130 iterações é 0.257027865054152\n",
      "Custo Após 2140 iterações é 0.2587223708330679\n",
      "Custo Após 2150 iterações é 0.25481120286502656\n",
      "Custo Após 2160 iterações é 0.253883691873548\n",
      "Custo Após 2170 iterações é 0.2495154028104928\n",
      "Custo Após 2180 iterações é 0.25031873876845573\n",
      "Custo Após 2190 iterações é 0.2517154417361472\n",
      "Custo Após 2200 iterações é 0.24980616655252408\n",
      "Custo Após 2210 iterações é 0.24878007641684632\n",
      "Custo Após 2220 iterações é 0.24886438515147963\n",
      "Custo Após 2230 iterações é 0.2474874252095063\n",
      "Custo Após 2240 iterações é 0.24707620277918174\n",
      "Custo Após 2250 iterações é 0.2481872476141642\n",
      "Custo Após 2260 iterações é 0.24649837788891774\n",
      "Custo Após 2270 iterações é 0.24790909982582157\n",
      "Custo Após 2280 iterações é 0.24734345187527693\n",
      "Custo Após 2290 iterações é 0.2460115377326278\n",
      "Custo Após 2300 iterações é 0.24829207359872874\n",
      "Custo Após 2310 iterações é 0.24900956134643903\n",
      "Custo Após 2320 iterações é 0.24818988446303195\n",
      "Custo Após 2330 iterações é 0.24517571722330334\n",
      "Custo Após 2340 iterações é 0.24667604065413723\n",
      "Custo Após 2350 iterações é 0.2464641682419173\n",
      "Custo Após 2360 iterações é 0.24523536523349312\n",
      "Custo Após 2370 iterações é 0.2458248574347076\n",
      "Custo Após 2380 iterações é 0.2437696617293298\n",
      "Custo Após 2390 iterações é 0.2426381024138036\n",
      "Custo Após 2400 iterações é 0.24391008671624467\n",
      "Custo Após 2410 iterações é 0.2439217281901328\n",
      "Custo Após 2420 iterações é 0.2455459245882337\n",
      "Custo Após 2430 iterações é 0.2430533639271362\n",
      "Custo Após 2440 iterações é 0.24147840492518924\n",
      "Custo Após 2450 iterações é 0.24055259363100423\n",
      "Custo Após 2460 iterações é 0.2411190969112991\n",
      "Custo Após 2470 iterações é 0.24147623477929947\n",
      "Custo Após 2480 iterações é 0.2405975292695825\n",
      "Custo Após 2490 iterações é 0.24155344355297412\n",
      "Custo Após 2500 iterações é 0.23918777859182344\n",
      "Custo Após 2510 iterações é 0.23852527787543065\n",
      "Custo Após 2520 iterações é 0.24005314495738553\n",
      "Custo Após 2530 iterações é 0.2383007250552491\n",
      "Custo Após 2540 iterações é 0.23933660018209907\n",
      "Custo Após 2550 iterações é 0.23804404052219394\n",
      "Custo Após 2560 iterações é 0.2383956942352847\n",
      "Custo Após 2570 iterações é 0.23782942162028886\n",
      "Custo Após 2580 iterações é 0.23996884972368854\n",
      "Custo Após 2590 iterações é 0.2373748337082871\n",
      "Custo Após 2600 iterações é 0.2383985448335361\n",
      "Custo Após 2610 iterações é 0.23786976214666525\n",
      "Custo Após 2620 iterações é 0.23630865700511758\n",
      "Custo Após 2630 iterações é 0.23661011545957433\n",
      "Custo Após 2640 iterações é 0.23707939438960052\n",
      "Custo Após 2650 iterações é 0.23605571270786221\n",
      "Custo Após 2660 iterações é 0.23507141770042658\n",
      "Custo Após 2670 iterações é 0.23469274298894147\n",
      "Custo Após 2680 iterações é 0.2350815393000186\n",
      "Custo Após 2690 iterações é 0.23295300760403836\n",
      "Custo Após 2700 iterações é 0.23270418092289905\n",
      "Custo Após 2710 iterações é 0.23235982537029284\n",
      "Custo Após 2720 iterações é 0.23312907461924248\n",
      "Custo Após 2730 iterações é 0.23185770753284432\n",
      "Custo Após 2740 iterações é 0.23231924128448056\n",
      "Custo Após 2750 iterações é 0.23154672180252436\n",
      "Custo Após 2760 iterações é 0.23141159912440018\n",
      "Custo Após 2770 iterações é 0.2312664116313508\n",
      "Custo Após 2780 iterações é 0.23169039862776256\n",
      "Custo Após 2790 iterações é 0.2308801866545209\n",
      "Custo Após 2800 iterações é 0.23069081885356083\n",
      "Custo Após 2810 iterações é 0.23231350063111564\n",
      "Custo Após 2820 iterações é 0.22988435598442936\n",
      "Custo Após 2830 iterações é 0.22903766105271206\n",
      "Custo Após 2840 iterações é 0.2285418982866147\n",
      "Custo Após 2850 iterações é 0.230099278898029\n",
      "Custo Após 2860 iterações é 0.2295979678291782\n",
      "Custo Após 2870 iterações é 0.22912237007167974\n",
      "Custo Após 2880 iterações é 0.22802126446378154\n",
      "Custo Após 2890 iterações é 0.22970099115621312\n",
      "Custo Após 2900 iterações é 0.22868766427619952\n",
      "Custo Após 2910 iterações é 0.22756077688394796\n",
      "Custo Após 2920 iterações é 0.22730019545959548\n",
      "Custo Após 2930 iterações é 0.2269911881428396\n",
      "Custo Após 2940 iterações é 0.22588685473616602\n",
      "Custo Após 2950 iterações é 0.22096811104890654\n",
      "Custo Após 2960 iterações é 0.21808874325398755\n",
      "Custo Após 2970 iterações é 0.21645215387709313\n",
      "Custo Após 2980 iterações é 0.21559411458324462\n",
      "Custo Após 2990 iterações é 0.21512113685427983\n",
      "\n",
      "Treinamento Concluído.\n",
      "\n"
     ]
    }
   ],
   "source": [
    "# Treinamento do modelo\n",
    "\n",
    "print(\"\\nIniciando o Treinamento.\\n\")\n",
    "\n",
    "parametros, custo = modeloNN(X = X_treino, \n",
    "                             Y = y_treino, \n",
    "                             dims_camada_entrada = dims_camada_entrada, \n",
    "                             num_iterations = 3000, \n",
    "                             learning_rate = 0.0075)\n",
    "\n",
    "print(\"\\nTreinamento Concluído.\\n\")"
   ]
  },
  {
   "cell_type": "code",
   "execution_count": 54,
   "metadata": {},
   "outputs": [
    {
     "data": {
      "text/plain": [
       "[<matplotlib.lines.Line2D at 0x2b6b4a7a910>]"
      ]
     },
     "execution_count": 54,
     "metadata": {},
     "output_type": "execute_result"
    },
    {
     "data": {
      "image/png": "[encoded data removed]",
      "text/plain": [
       "<Figure size 432x288 with 1 Axes>"
      ]
     },
     "metadata": {
      "needs_background": "light"
     },
     "output_type": "display_data"
    }
   ],
   "source": [
    "plt.plot(custo)"
   ]
  },
  {
   "cell_type": "code",
   "execution_count": 55,
   "metadata": {},
   "outputs": [
    {
     "name": "stdout",
     "output_type": "stream",
     "text": [
      "\n",
      "Iniciando o Treinamento.\n",
      "\n",
      "Custo Após 0 iterações é 0.693128705745188\n",
      "Custo Após 10 iterações é 0.6922220577708078\n",
      "Custo Após 20 iterações é 0.6913487735671733\n",
      "Custo Após 30 iterações é 0.6905075582782587\n",
      "Custo Após 40 iterações é 0.6896971688144793\n",
      "Custo Após 50 iterações é 0.6889164441468038\n",
      "Custo Após 60 iterações é 0.6881642698776876\n",
      "Custo Após 70 iterações é 0.6874395658851584\n",
      "Custo Após 80 iterações é 0.6867412900045867\n",
      "Custo Após 90 iterações é 0.6860684468899257\n",
      "Custo Após 100 iterações é 0.6854200687031191\n",
      "Custo Após 110 iterações é 0.6847952209498234\n",
      "Custo Após 120 iterações é 0.6841930055100109\n",
      "Custo Após 130 iterações é 0.6836125540857074\n",
      "Custo Após 140 iterações é 0.6830530270216254\n",
      "Custo Após 150 iterações é 0.6825135880003887\n",
      "Custo Após 160 iterações é 0.6819934566125839\n",
      "Custo Após 170 iterações é 0.6814917902829023\n",
      "Custo Após 180 iterações é 0.68100685124195\n",
      "Custo Após 190 iterações é 0.6805347068651322\n",
      "Custo Após 200 iterações é 0.6800768866519802\n",
      "Custo Após 210 iterações é 0.6796377815448683\n",
      "Custo Após 220 iterações é 0.6792133090325627\n",
      "Custo Após 230 iterações é 0.678802732209266\n",
      "Custo Após 240 iterações é 0.6784053250138501\n",
      "Custo Após 250 iterações é 0.6780203558815875\n",
      "Custo Após 260 iterações é 0.6776470618287301\n",
      "Custo Após 270 iterações é 0.6772846733323511\n",
      "Custo Após 280 iterações é 0.6769324024671469\n",
      "Custo Após 290 iterações é 0.6765894093526015\n",
      "Custo Após 300 iterações é 0.6762547627481517\n",
      "Custo Após 310 iterações é 0.6759274467989294\n",
      "Custo Após 320 iterações é 0.6756063447826515\n",
      "Custo Após 330 iterações é 0.6752902235771954\n",
      "Custo Após 340 iterações é 0.674977661269355\n",
      "Custo Após 350 iterações é 0.6746669279492246\n",
      "Custo Após 360 iterações é 0.6743559117752549\n",
      "Custo Após 370 iterações é 0.6740421520472837\n",
      "Custo Após 380 iterações é 0.6737225176325827\n",
      "Custo Após 390 iterações é 0.6733929178636736\n",
      "Custo Após 400 iterações é 0.6730480771961024\n",
      "Custo Após 410 iterações é 0.6726808123477275\n",
      "Custo Após 420 iterações é 0.6722812034064958\n",
      "Custo Após 430 iterações é 0.6718352741444636\n",
      "Custo Após 440 iterações é 0.6713227221108837\n",
      "Custo Após 450 iterações é 0.6707133710998842\n",
      "Custo Após 460 iterações é 0.6699608822986738\n",
      "Custo Após 470 iterações é 0.6689924885056616\n",
      "Custo Após 480 iterações é 0.6676875608266423\n",
      "Custo Após 490 iterações é 0.6658369217637432\n",
      "Custo Após 500 iterações é 0.6630705066084992\n",
      "Custo Após 510 iterações é 0.6587332844639832\n",
      "Custo Após 520 iterações é 0.6517911107507602\n",
      "Custo Após 530 iterações é 0.6414208024221265\n",
      "Custo Após 540 iterações é 0.6297258612900618\n",
      "Custo Após 550 iterações é 0.6219903583187957\n",
      "Custo Após 560 iterações é 0.6181391895089849\n",
      "Custo Após 570 iterações é 0.6152885290155371\n",
      "Custo Após 580 iterações é 0.6125379140267002\n",
      "Custo Após 590 iterações é 0.60977094797597\n",
      "Custo Após 600 iterações é 0.6069715579853803\n",
      "Custo Após 610 iterações é 0.6041313967096978\n",
      "Custo Após 620 iterações é 0.6012415920368481\n",
      "Custo Após 630 iterações é 0.598291004864093\n",
      "Custo Após 640 iterações é 0.5952657564773665\n",
      "Custo Após 650 iterações é 0.5921485878002757\n",
      "Custo Após 660 iterações é 0.5889170423548186\n",
      "Custo Após 670 iterações é 0.5855417770201259\n",
      "Custo Após 680 iterações é 0.5819841312750164\n",
      "Custo Após 690 iterações é 0.5781922074062749\n",
      "Custo Após 700 iterações é 0.5740946723076052\n",
      "Custo Após 710 iterações é 0.5695924034331622\n",
      "Custo Após 720 iterações é 0.5645515965251278\n",
      "Custo Após 730 iterações é 0.5587798319926686\n",
      "Custo Após 740 iterações é 0.5519895844455962\n",
      "Custo Após 750 iterações é 0.543774432332711\n",
      "Custo Após 760 iterações é 0.5335706194337065\n",
      "Custo Após 770 iterações é 0.5208532133842012\n",
      "Custo Após 780 iterações é 0.5049993716893545\n",
      "Custo Após 790 iterações é 0.4851924017312903\n",
      "Custo Após 800 iterações é 0.46359626587204184\n",
      "Custo Após 810 iterações é 0.44450065628260604\n",
      "Custo Após 820 iterações é 0.5019893180863957\n",
      "Custo Após 830 iterações é 0.4777585584978122\n",
      "Custo Após 840 iterações é 0.4695011346999524\n",
      "Custo Após 850 iterações é 0.46330018257302114\n",
      "Custo Após 860 iterações é 0.45108928972087553\n",
      "Custo Após 870 iterações é 0.44388803136845345\n",
      "Custo Após 880 iterações é 0.4365270454862724\n",
      "Custo Após 890 iterações é 0.4298045056102572\n",
      "Custo Após 900 iterações é 0.42219088001842575\n",
      "Custo Após 910 iterações é 0.4148087040774871\n",
      "Custo Após 920 iterações é 0.4080789512324724\n",
      "Custo Após 930 iterações é 0.40460539914217236\n",
      "Custo Após 940 iterações é 0.39957995333665086\n",
      "Custo Após 950 iterações é 0.3946081851021345\n",
      "Custo Após 960 iterações é 0.39088514278665637\n",
      "Custo Após 970 iterações é 0.38922655799283756\n",
      "Custo Após 980 iterações é 0.38366004957076993\n",
      "Custo Após 990 iterações é 0.38043564169752697\n",
      "Custo Após 1000 iterações é 0.3756533897684354\n",
      "Custo Após 1010 iterações é 0.3758062992141263\n",
      "Custo Após 1020 iterações é 0.36995893350300063\n",
      "Custo Após 1030 iterações é 0.3689840435416902\n",
      "Custo Após 1040 iterações é 0.36548314124098075\n",
      "Custo Após 1050 iterações é 0.3643066663086488\n",
      "Custo Após 1060 iterações é 0.36022523891529334\n",
      "Custo Após 1070 iterações é 0.35730762871094895\n",
      "Custo Após 1080 iterações é 0.3550892794306176\n",
      "Custo Após 1090 iterações é 0.35108774547282096\n",
      "Custo Após 1100 iterações é 0.3462168099454229\n",
      "Custo Após 1110 iterações é 0.3449423793351724\n",
      "Custo Após 1120 iterações é 0.3411625012963293\n",
      "Custo Após 1130 iterações é 0.3429177349299445\n",
      "Custo Após 1140 iterações é 0.34324127747789523\n",
      "Custo Após 1150 iterações é 0.34026313884917586\n",
      "Custo Após 1160 iterações é 0.3324017762197169\n",
      "Custo Após 1170 iterações é 0.3313950278685624\n",
      "Custo Após 1180 iterações é 0.33055805014661227\n",
      "Custo Após 1190 iterações é 0.3282956057866023\n",
      "Custo Após 1200 iterações é 0.3261675949899387\n",
      "Custo Após 1210 iterações é 0.3263472008491001\n",
      "Custo Após 1220 iterações é 0.3264100623873708\n",
      "Custo Após 1230 iterações é 0.32292452905759805\n",
      "Custo Após 1240 iterações é 0.32691706295305567\n",
      "Custo Após 1250 iterações é 0.3231512500495998\n",
      "Custo Após 1260 iterações é 0.3175534203397034\n",
      "Custo Após 1270 iterações é 0.3168557017825543\n",
      "Custo Após 1280 iterações é 0.31574327122172424\n",
      "Custo Após 1290 iterações é 0.31486411074744936\n",
      "Custo Após 1300 iterações é 0.31378235601975984\n",
      "Custo Após 1310 iterações é 0.3114433121442233\n",
      "Custo Após 1320 iterações é 0.31100558743952916\n",
      "Custo Após 1330 iterações é 0.3089506480447165\n",
      "Custo Após 1340 iterações é 0.3075604702215262\n",
      "Custo Após 1350 iterações é 0.3071324254993093\n",
      "Custo Após 1360 iterações é 0.3072591154753849\n",
      "Custo Após 1370 iterações é 0.3066169604123106\n",
      "Custo Após 1380 iterações é 0.3043657000200974\n",
      "Custo Após 1390 iterações é 0.3046431701414714\n",
      "Custo Após 1400 iterações é 0.29937343371143443\n",
      "Custo Após 1410 iterações é 0.29909908063930724\n",
      "Custo Após 1420 iterações é 0.29922785755412484\n",
      "Custo Após 1430 iterações é 0.2972630436356979\n",
      "Custo Após 1440 iterações é 0.2981312957013109\n",
      "Custo Após 1450 iterações é 0.29605351113724654\n",
      "Custo Após 1460 iterações é 0.2979784741463838\n",
      "Custo Após 1470 iterações é 0.2945385813668067\n",
      "Custo Após 1480 iterações é 0.29449061598210985\n",
      "Custo Após 1490 iterações é 0.2940689149576581\n",
      "Custo Após 1500 iterações é 0.29420118119874494\n",
      "Custo Após 1510 iterações é 0.29183478063881574\n",
      "Custo Após 1520 iterações é 0.28951207985716054\n",
      "Custo Após 1530 iterações é 0.28540720500526984\n",
      "Custo Após 1540 iterações é 0.2849973907545126\n",
      "Custo Após 1550 iterações é 0.28512170033524226\n",
      "Custo Após 1560 iterações é 0.28287047957374106\n",
      "Custo Após 1570 iterações é 0.28259990380727223\n",
      "Custo Após 1580 iterações é 0.2809689690395584\n",
      "Custo Após 1590 iterações é 0.28030093992609856\n",
      "Custo Após 1600 iterações é 0.2792236327783565\n",
      "Custo Após 1610 iterações é 0.2796105196308588\n",
      "Custo Após 1620 iterações é 0.2788218428289849\n",
      "Custo Após 1630 iterações é 0.27687666169311986\n",
      "Custo Após 1640 iterações é 0.2760989289367229\n",
      "Custo Após 1650 iterações é 0.27527065711518284\n",
      "Custo Após 1660 iterações é 0.27304977246968637\n",
      "Custo Após 1670 iterações é 0.26656118983816784\n",
      "Custo Após 1680 iterações é 0.26518214359172926\n",
      "Custo Após 1690 iterações é 0.26467606565271223\n",
      "Custo Após 1700 iterações é 0.26448668790388374\n",
      "Custo Após 1710 iterações é 0.26399930047915027\n",
      "Custo Após 1720 iterações é 0.26350508524007926\n",
      "Custo Após 1730 iterações é 0.26274795392503136\n",
      "Custo Após 1740 iterações é 0.2670884971522924\n",
      "Custo Após 1750 iterações é 0.2738071300201179\n",
      "Custo Após 1760 iterações é 0.2761086799989969\n",
      "Custo Após 1770 iterações é 0.26856727934494573\n",
      "Custo Após 1780 iterações é 0.2685844634059253\n",
      "Custo Após 1790 iterações é 0.26699102083305926\n",
      "Custo Após 1800 iterações é 0.26553505203591543\n",
      "Custo Após 1810 iterações é 0.2658418509606275\n",
      "Custo Após 1820 iterações é 0.2645390728976853\n",
      "Custo Após 1830 iterações é 0.2646425287179162\n",
      "Custo Após 1840 iterações é 0.2579064731385986\n",
      "Custo Após 1850 iterações é 0.25761728181616406\n",
      "Custo Após 1860 iterações é 0.2570330586421147\n",
      "Custo Após 1870 iterações é 0.25669415444220034\n",
      "Custo Após 1880 iterações é 0.25643520950826904\n",
      "Custo Após 1890 iterações é 0.2553525063179293\n",
      "Custo Após 1900 iterações é 0.2566814115766755\n",
      "Custo Após 1910 iterações é 0.2573466508463227\n",
      "Custo Após 1920 iterações é 0.25746146204955755\n",
      "Custo Após 1930 iterações é 0.2594592294024983\n",
      "Custo Após 1940 iterações é 0.25838377201809865\n",
      "Custo Após 1950 iterações é 0.25804819543819074\n",
      "Custo Após 1960 iterações é 0.25565840416244695\n",
      "Custo Após 1970 iterações é 0.2507698470113036\n",
      "Custo Após 1980 iterações é 0.24999650857717023\n"
     ]
    },
    {
     "name": "stdout",
     "output_type": "stream",
     "text": [
      "Custo Após 1990 iterações é 0.2533070185969426\n",
      "Custo Após 2000 iterações é 0.2565396218130722\n",
      "Custo Após 2010 iterações é 0.25490631160352334\n",
      "Custo Após 2020 iterações é 0.2537833250574708\n",
      "Custo Após 2030 iterações é 0.2533755046798181\n",
      "Custo Após 2040 iterações é 0.25305533058668966\n",
      "Custo Após 2050 iterações é 0.25257604784017934\n",
      "Custo Após 2060 iterações é 0.2514574699629279\n",
      "Custo Após 2070 iterações é 0.25275191273011094\n",
      "Custo Após 2080 iterações é 0.253172873180521\n",
      "Custo Após 2090 iterações é 0.2524695918659313\n",
      "Custo Após 2100 iterações é 0.251170760876603\n",
      "Custo Após 2110 iterações é 0.25086272262345727\n",
      "Custo Após 2120 iterações é 0.2514518597034022\n",
      "Custo Após 2130 iterações é 0.2478138417327781\n",
      "Custo Após 2140 iterações é 0.24169602298065496\n",
      "Custo Após 2150 iterações é 0.2410285384347768\n",
      "Custo Após 2160 iterações é 0.24181159409313938\n",
      "Custo Após 2170 iterações é 0.2420713519821428\n",
      "Custo Após 2180 iterações é 0.24723468288612396\n",
      "Custo Após 2190 iterações é 0.2478620428370099\n",
      "Custo Após 2200 iterações é 0.2480894350317728\n",
      "Custo Após 2210 iterações é 0.24787855056662816\n",
      "Custo Após 2220 iterações é 0.2469508393648207\n",
      "Custo Após 2230 iterações é 0.2466570081722252\n",
      "Custo Após 2240 iterações é 0.24633186310379393\n",
      "Custo Após 2250 iterações é 0.2450107568039646\n",
      "Custo Após 2260 iterações é 0.24174028164556668\n",
      "Custo Após 2270 iterações é 0.23741112017179208\n",
      "Custo Após 2280 iterações é 0.23661769791282922\n",
      "Custo Após 2290 iterações é 0.23703074468908522\n",
      "Custo Após 2300 iterações é 0.23632775545784104\n",
      "Custo Após 2310 iterações é 0.23696093627628093\n",
      "Custo Após 2320 iterações é 0.23554583007462862\n",
      "Custo Após 2330 iterações é 0.23642564235640648\n",
      "Custo Após 2340 iterações é 0.23554084186237537\n",
      "Custo Após 2350 iterações é 0.2348152773757354\n",
      "Custo Após 2360 iterações é 0.2353219473082324\n",
      "Custo Após 2370 iterações é 0.23467501317949438\n",
      "Custo Após 2380 iterações é 0.23919960148269157\n",
      "Custo Após 2390 iterações é 0.24347497519897945\n",
      "Custo Após 2400 iterações é 0.24195937634606302\n",
      "Custo Após 2410 iterações é 0.2409485114613431\n",
      "Custo Após 2420 iterações é 0.23929467897236525\n",
      "Custo Após 2430 iterações é 0.2401330375948403\n",
      "Custo Após 2440 iterações é 0.24050040652388718\n",
      "Custo Após 2450 iterações é 0.2402662609109508\n",
      "Custo Após 2460 iterações é 0.2386433588394531\n",
      "Custo Após 2470 iterações é 0.23786214977253914\n",
      "Custo Após 2480 iterações é 0.2380218191908059\n",
      "Custo Após 2490 iterações é 0.23481580664020654\n",
      "Custo Após 2500 iterações é 0.2291916231382368\n",
      "Custo Após 2510 iterações é 0.2297928821453709\n",
      "Custo Após 2520 iterações é 0.2293502148166963\n",
      "Custo Após 2530 iterações é 0.22904680942954517\n",
      "Custo Após 2540 iterações é 0.22903677358561655\n",
      "Custo Após 2550 iterações é 0.22879543420657472\n",
      "Custo Após 2560 iterações é 0.22833524651414516\n",
      "Custo Após 2570 iterações é 0.22793262681950766\n",
      "Custo Após 2580 iterações é 0.22749138786841508\n",
      "Custo Após 2590 iterações é 0.22801720026044142\n",
      "Custo Após 2600 iterações é 0.22700185549494215\n",
      "Custo Após 2610 iterações é 0.22790433172377436\n",
      "Custo Após 2620 iterações é 0.22649158740885741\n",
      "Custo Após 2630 iterações é 0.22640319907909798\n",
      "Custo Após 2640 iterações é 0.22720860337825005\n",
      "Custo Após 2650 iterações é 0.22501187481014526\n",
      "Custo Após 2660 iterações é 0.2262133277435118\n",
      "Custo Após 2670 iterações é 0.22515142136035715\n",
      "Custo Após 2680 iterações é 0.22557818590183845\n",
      "Custo Após 2690 iterações é 0.22473783627607666\n",
      "Custo Após 2700 iterações é 0.2256607088288315\n",
      "Custo Após 2710 iterações é 0.22592492719972096\n",
      "Custo Após 2720 iterações é 0.23714991944936223\n",
      "Custo Após 2730 iterações é 0.23450602088285966\n",
      "Custo Após 2740 iterações é 0.23161797412047658\n",
      "Custo Após 2750 iterações é 0.23066501548442822\n",
      "Custo Após 2760 iterações é 0.22997758810550012\n",
      "Custo Após 2770 iterações é 0.22820561383372023\n",
      "Custo Após 2780 iterações é 0.22773168471269087\n",
      "Custo Após 2790 iterações é 0.22804259748036512\n",
      "Custo Após 2800 iterações é 0.227935877523064\n",
      "Custo Após 2810 iterações é 0.22792910151363213\n",
      "Custo Após 2820 iterações é 0.22023352515289\n",
      "Custo Após 2830 iterações é 0.21935360692178654\n",
      "Custo Após 2840 iterações é 0.22087520558470816\n",
      "Custo Após 2850 iterações é 0.22066860731679394\n",
      "Custo Após 2860 iterações é 0.22105942286244484\n",
      "Custo Após 2870 iterações é 0.22124634583364924\n",
      "Custo Após 2880 iterações é 0.220731632183484\n",
      "Custo Após 2890 iterações é 0.22095452970932064\n",
      "Custo Após 2900 iterações é 0.22083063171616188\n",
      "Custo Após 2910 iterações é 0.22027646725405722\n",
      "Custo Após 2920 iterações é 0.22005505438448447\n",
      "Custo Após 2930 iterações é 0.22013537569190153\n",
      "Custo Após 2940 iterações é 0.22117919767300398\n",
      "Custo Após 2950 iterações é 0.21990869164649088\n",
      "Custo Após 2960 iterações é 0.21950124263308135\n",
      "Custo Após 2970 iterações é 0.21902620013022517\n",
      "Custo Após 2980 iterações é 0.21929877537575004\n",
      "Custo Após 2990 iterações é 0.2183032162591722\n",
      "Custo Após 3000 iterações é 0.21895344408195427\n",
      "Custo Após 3010 iterações é 0.21842609898804755\n",
      "Custo Após 3020 iterações é 0.21852361434260686\n",
      "Custo Após 3030 iterações é 0.21830564830000068\n",
      "Custo Após 3040 iterações é 0.2186864652607558\n",
      "Custo Após 3050 iterações é 0.21820761198365193\n",
      "Custo Após 3060 iterações é 0.21678182081828862\n",
      "Custo Após 3070 iterações é 0.21768247073728383\n",
      "Custo Após 3080 iterações é 0.2181776059783727\n",
      "Custo Após 3090 iterações é 0.21856298992528211\n",
      "Custo Após 3100 iterações é 0.2189572976147416\n",
      "Custo Após 3110 iterações é 0.22939721739039398\n",
      "Custo Após 3120 iterações é 0.21783742476105636\n",
      "Custo Após 3130 iterações é 0.2133096743450334\n",
      "Custo Após 3140 iterações é 0.21370901776540754\n",
      "Custo Após 3150 iterações é 0.212989375997746\n",
      "Custo Após 3160 iterações é 0.21409977806798078\n",
      "Custo Após 3170 iterações é 0.21534798682232112\n",
      "Custo Após 3180 iterações é 0.21539400391355823\n",
      "Custo Após 3190 iterações é 0.21691323983811744\n",
      "Custo Após 3200 iterações é 0.22443588506425585\n",
      "Custo Após 3210 iterações é 0.219925337842917\n",
      "Custo Após 3220 iterações é 0.2177383745101002\n",
      "Custo Após 3230 iterações é 0.2172173922089787\n",
      "Custo Após 3240 iterações é 0.2141927510107992\n",
      "Custo Após 3250 iterações é 0.2114620646744236\n",
      "Custo Após 3260 iterações é 0.21345979922973213\n",
      "Custo Após 3270 iterações é 0.21474610984846604\n",
      "Custo Após 3280 iterações é 0.21714771984695402\n",
      "Custo Após 3290 iterações é 0.2181648499345308\n",
      "Custo Após 3300 iterações é 0.2170356340636233\n",
      "Custo Após 3310 iterações é 0.2167513261797826\n",
      "Custo Após 3320 iterações é 0.21695769834679665\n",
      "Custo Após 3330 iterações é 0.2158217522392006\n",
      "Custo Após 3340 iterações é 0.21622920383693264\n",
      "Custo Após 3350 iterações é 0.21295215744734072\n",
      "Custo Após 3360 iterações é 0.2097897001789057\n",
      "Custo Após 3370 iterações é 0.2105911505226073\n",
      "Custo Após 3380 iterações é 0.21047570130306723\n",
      "Custo Após 3390 iterações é 0.21204152356920286\n",
      "Custo Após 3400 iterações é 0.21062674505823314\n",
      "Custo Após 3410 iterações é 0.2106091268474303\n",
      "Custo Após 3420 iterações é 0.21013169736483878\n",
      "Custo Após 3430 iterações é 0.21061522738740818\n",
      "Custo Após 3440 iterações é 0.21129989707404057\n",
      "Custo Após 3450 iterações é 0.21044278749263343\n",
      "Custo Após 3460 iterações é 0.21024722383347355\n",
      "Custo Após 3470 iterações é 0.21130399012420306\n",
      "Custo Após 3480 iterações é 0.21112784258862816\n",
      "Custo Após 3490 iterações é 0.21032767272355996\n",
      "Custo Após 3500 iterações é 0.20951661124741786\n",
      "Custo Após 3510 iterações é 0.2099507105206072\n",
      "Custo Após 3520 iterações é 0.20897912399023472\n",
      "Custo Após 3530 iterações é 0.20862907358965832\n",
      "Custo Após 3540 iterações é 0.2100599826124377\n",
      "Custo Após 3550 iterações é 0.2094865617758472\n",
      "Custo Após 3560 iterações é 0.20986425872669603\n",
      "Custo Após 3570 iterações é 0.20994049933812953\n",
      "Custo Após 3580 iterações é 0.2093082205652794\n",
      "Custo Após 3590 iterações é 0.2087931180323616\n",
      "Custo Após 3600 iterações é 0.20791840557685856\n",
      "Custo Após 3610 iterações é 0.20749669357085476\n",
      "Custo Após 3620 iterações é 0.20842046617880752\n",
      "Custo Após 3630 iterações é 0.20860548020900171\n",
      "Custo Após 3640 iterações é 0.20861062357583812\n",
      "Custo Após 3650 iterações é 0.2087774644853588\n",
      "Custo Após 3660 iterações é 0.20821779554696274\n",
      "Custo Após 3670 iterações é 0.20886571186307717\n",
      "Custo Após 3680 iterações é 0.20769020858695109\n",
      "Custo Após 3690 iterações é 0.20777358446450858\n",
      "Custo Após 3700 iterações é 0.20818050451485248\n",
      "Custo Após 3710 iterações é 0.20843270581018675\n",
      "Custo Após 3720 iterações é 0.2096308157461759\n",
      "Custo Após 3730 iterações é 0.20881951002349827\n",
      "Custo Após 3740 iterações é 0.2093991643347596\n",
      "Custo Após 3750 iterações é 0.2102179303808557\n",
      "Custo Após 3760 iterações é 0.20883550507323242\n",
      "Custo Após 3770 iterações é 0.20609262182722599\n",
      "Custo Após 3780 iterações é 0.2048791497058354\n",
      "Custo Após 3790 iterações é 0.20517016881392397\n",
      "Custo Após 3800 iterações é 0.20566084872351895\n",
      "Custo Após 3810 iterações é 0.2053537926851647\n",
      "Custo Após 3820 iterações é 0.20528535821601282\n",
      "Custo Após 3830 iterações é 0.2052155894226093\n",
      "Custo Após 3840 iterações é 0.20566725861098425\n",
      "Custo Após 3850 iterações é 0.20628412797673007\n",
      "Custo Após 3860 iterações é 0.20511342947330374\n",
      "Custo Após 3870 iterações é 0.20531615201110914\n",
      "Custo Após 3880 iterações é 0.2044343690307254\n",
      "Custo Após 3890 iterações é 0.206193619292678\n"
     ]
    },
    {
     "name": "stdout",
     "output_type": "stream",
     "text": [
      "Custo Após 3900 iterações é 0.20533084960979248\n",
      "Custo Após 3910 iterações é 0.20433281716658008\n",
      "Custo Após 3920 iterações é 0.2038879160814171\n",
      "Custo Após 3930 iterações é 0.20407563607274742\n",
      "Custo Após 3940 iterações é 0.2033153449172935\n",
      "Custo Após 3950 iterações é 0.20429832360479974\n",
      "Custo Após 3960 iterações é 0.20438456062723512\n",
      "Custo Após 3970 iterações é 0.20443579390173702\n",
      "Custo Após 3980 iterações é 0.20344952923224216\n",
      "Custo Após 3990 iterações é 0.2039722724386988\n",
      "\n",
      "Treinamento Concluído.\n",
      "\n"
     ]
    }
   ],
   "source": [
    "# Treinamento do modelo\n",
    "\n",
    "print(\"\\nIniciando o Treinamento.\\n\")\n",
    "\n",
    "parametros, custo = modeloNN(X = X_treino, \n",
    "                             Y = y_treino, \n",
    "                             dims_camada_entrada = dims_camada_entrada, \n",
    "                             num_iterations = 4000, \n",
    "                             learning_rate = 0.0075)\n",
    "\n",
    "print(\"\\nTreinamento Concluído.\\n\")"
   ]
  },
  {
   "cell_type": "code",
   "execution_count": 56,
   "metadata": {},
   "outputs": [
    {
     "data": {
      "text/plain": [
       "[<matplotlib.lines.Line2D at 0x2b6b705c160>]"
      ]
     },
     "execution_count": 56,
     "metadata": {},
     "output_type": "execute_result"
    },
    {
     "data": {
      "image/png": "[encoded data removed]",
      "text/plain": [
       "<Figure size 432x288 with 1 Axes>"
      ]
     },
     "metadata": {
      "needs_background": "light"
     },
     "output_type": "display_data"
    }
   ],
   "source": [
    "plt.plot(custo)"
   ]
  },
  {
   "cell_type": "code",
   "execution_count": 58,
   "metadata": {},
   "outputs": [],
   "source": [
    "# Previsões com os dados de treino\n",
    "y_pred_treino = predict(X_treino, parametros)"
   ]
  },
  {
   "cell_type": "code",
   "execution_count": 59,
   "metadata": {},
   "outputs": [
    {
     "data": {
      "text/plain": [
       "array([[2.80306952e-02, 8.96885777e-01, 7.01027116e-01, 8.59117714e-01,\n",
       "        1.73506067e-08, 7.25596730e-01, 6.35316968e-01, 4.11326761e-10,\n",
       "        6.42982293e-02, 3.03348276e-01, 8.00277917e-01, 1.58663994e-02,\n",
       "        9.64148862e-11, 8.28565785e-01, 8.88459600e-01, 7.81368204e-01,\n",
       "        6.66577471e-06, 8.55624773e-01, 1.79763900e-08, 9.08213339e-01,\n",
       "        1.45542980e-07, 8.90697039e-01, 9.10450994e-01, 2.97070941e-02,\n",
       "        9.05354693e-01, 3.18761604e-19, 9.10450874e-01, 9.10451073e-01,\n",
       "        1.86921914e-04, 7.25755533e-06, 2.78201492e-01, 9.10451091e-01,\n",
       "        3.98267019e-02, 8.82188895e-01, 9.10451056e-01, 7.19253284e-01,\n",
       "        7.71261815e-01, 6.07066169e-01, 6.45613649e-01, 9.10450898e-01,\n",
       "        7.05743415e-13, 4.09410953e-01, 8.88582396e-01, 7.85369694e-01,\n",
       "        4.29137159e-04, 3.07520103e-06, 9.10451091e-01, 1.31332053e-01,\n",
       "        4.42770645e-03, 9.10442108e-01, 9.10450942e-01, 6.15757753e-01,\n",
       "        8.95176621e-01, 1.55111725e-03, 9.10450916e-01, 1.04473677e-06,\n",
       "        9.07028366e-01, 9.10450957e-01, 3.40598174e-01, 9.10450976e-01,\n",
       "        8.28268537e-01, 3.28296007e-01, 9.66459988e-07, 3.23952124e-09,\n",
       "        8.95930248e-01, 9.10451091e-01, 5.74414519e-07, 5.46231875e-14,\n",
       "        1.73095758e-01, 6.35285791e-01, 7.55731091e-01, 7.02365442e-01,\n",
       "        1.28476247e-05, 8.96158469e-01, 8.46747947e-01, 9.10451009e-01,\n",
       "        8.99571894e-01, 8.92265178e-01, 9.10450923e-01, 9.10451060e-01,\n",
       "        4.68800808e-01, 8.57385530e-01, 8.69731911e-01, 6.74118432e-04,\n",
       "        2.12828456e-11, 9.10450946e-01, 7.76146558e-01, 1.30595775e-18,\n",
       "        1.43949607e-14, 8.66720549e-01, 9.10451091e-01, 6.03518779e-01,\n",
       "        7.73391834e-01, 9.10451007e-01, 8.39039358e-06, 9.08478436e-01,\n",
       "        9.10450831e-01, 1.08518473e-02, 9.03143929e-01, 6.31038051e-05,\n",
       "        9.10450858e-01, 9.24551741e-05, 6.44641384e-07, 5.17303895e-01,\n",
       "        9.10451028e-01, 8.24866001e-01, 8.96077865e-01, 9.10450956e-01,\n",
       "        8.34420625e-01, 7.88257482e-01, 1.26952239e-02, 1.20034872e-04,\n",
       "        9.10451000e-01, 9.10450966e-01, 1.30347194e-02, 8.15127769e-01,\n",
       "        9.10451052e-01, 9.47684813e-03, 1.00890154e-01, 9.10450933e-01,\n",
       "        9.10451091e-01, 1.01212393e-05, 4.41741239e-03, 9.10451091e-01,\n",
       "        9.25314188e-09, 8.46892236e-01, 8.54917956e-01, 2.54122314e-01,\n",
       "        3.82991935e-03, 4.54170827e-01, 4.22273592e-05, 6.33053057e-01,\n",
       "        9.10451010e-01, 9.10451091e-01, 9.06522347e-01, 9.10450987e-01,\n",
       "        8.94181965e-01, 8.31936568e-01, 8.40306310e-01, 1.24833896e-01,\n",
       "        9.07605019e-01, 4.59672789e-03, 2.55709788e-02, 8.20032702e-01,\n",
       "        6.42681394e-01, 8.99388903e-01, 9.10450875e-01, 8.67473348e-01,\n",
       "        9.08068825e-01, 9.01672222e-01, 2.20326996e-02, 8.81254975e-01,\n",
       "        9.10450972e-01, 8.74750711e-01, 7.55527422e-01, 1.32801684e-16,\n",
       "        1.48824308e-17, 7.84183693e-01, 8.39460391e-01, 9.08857500e-01,\n",
       "        9.10451091e-01, 1.44579319e-01, 1.36251651e-01, 7.73109918e-05,\n",
       "        9.09117101e-01, 4.80782085e-01, 7.75399928e-01, 5.15563311e-01,\n",
       "        2.42515491e-04, 7.70499670e-01, 8.60777949e-06, 3.69552175e-04,\n",
       "        3.09906219e-05, 7.02875508e-01, 9.10451091e-01, 4.35588962e-06,\n",
       "        1.89862976e-01, 8.80738584e-01, 2.57827647e-03, 5.81215741e-11,\n",
       "        8.72062537e-01, 8.58194122e-18, 2.93728483e-04, 5.79781100e-08,\n",
       "        3.38455126e-03, 8.12582648e-01, 9.04872081e-01, 9.10451091e-01,\n",
       "        6.31257727e-01, 9.10451091e-01, 9.10450967e-01, 9.10450984e-01,\n",
       "        9.10451077e-01, 6.77678506e-06, 9.10451091e-01, 8.55937374e-01,\n",
       "        2.82086757e-05, 8.72758096e-02, 9.10451091e-01, 9.17347456e-02,\n",
       "        8.27476354e-01, 6.29529932e-12, 8.98084079e-01, 1.11356937e-01,\n",
       "        9.06015813e-01, 9.10451091e-01, 8.79913711e-01, 7.76420830e-01,\n",
       "        9.10450923e-01, 9.10451004e-01, 1.89062928e-06, 9.10451091e-01,\n",
       "        9.10451006e-01, 1.22933477e-09, 9.10451091e-01, 3.09472071e-02,\n",
       "        8.29712599e-01, 9.02199392e-01, 6.18220451e-05, 1.09102194e-05,\n",
       "        9.04166910e-01, 6.38363086e-06, 6.07053759e-10, 6.30616193e-01,\n",
       "        9.10451091e-01, 9.10451091e-01, 7.95948344e-04, 9.03108459e-01,\n",
       "        2.02037696e-01, 9.10450929e-01, 3.39227319e-06, 8.83662272e-01,\n",
       "        9.10450767e-01, 8.65990440e-01, 9.10451091e-01, 9.10450957e-01,\n",
       "        8.08575037e-01, 6.58118444e-01, 4.68085312e-03, 4.96558246e-02,\n",
       "        3.01087973e-03, 5.05649858e-03, 2.97605954e-14, 9.10451091e-01,\n",
       "        9.06496816e-01, 3.06141625e-04, 8.22049808e-01, 1.96229457e-02,\n",
       "        2.18121667e-08, 7.48337507e-01, 8.62949127e-01, 6.01895102e-01,\n",
       "        9.10450972e-01, 9.10451091e-01, 9.10451091e-01, 8.25456919e-04,\n",
       "        9.10451045e-01, 2.92692742e-01, 1.01405906e-01, 1.46968564e-01,\n",
       "        1.81970346e-04, 3.43221593e-02, 9.00159384e-04, 1.56305374e-04,\n",
       "        4.94359923e-01, 3.91364000e-05, 8.10323569e-01, 7.16351009e-01,\n",
       "        3.39771418e-05, 8.66341377e-01, 8.44168509e-01, 1.03682331e-07,\n",
       "        9.10451091e-01, 9.10450867e-01, 6.10808932e-07, 8.93255324e-01,\n",
       "        9.07778785e-01, 8.52208597e-01, 1.30868403e-01, 9.10451091e-01,\n",
       "        8.72728025e-01, 9.75644937e-03, 8.65499035e-01, 9.10448603e-01,\n",
       "        8.94111200e-01, 9.10450963e-01, 8.86474467e-01, 9.10451091e-01,\n",
       "        1.10764775e-03, 9.10451091e-01, 9.10348368e-01, 1.11578487e-01,\n",
       "        9.10451044e-01, 8.03915240e-01, 8.85535184e-01, 9.02404827e-01,\n",
       "        4.86421173e-02, 8.12916959e-01, 6.16745327e-09, 3.47076404e-05,\n",
       "        9.10451091e-01, 1.98620210e-06, 9.10451091e-01, 1.08157574e-05,\n",
       "        1.84247440e-01, 7.76693374e-01, 5.06193087e-01, 8.60543295e-01,\n",
       "        6.01588195e-04, 9.10450956e-01, 9.10450929e-01, 4.79783665e-07,\n",
       "        6.38705903e-01, 9.02737589e-01, 5.40578902e-01, 7.80946377e-02,\n",
       "        8.80376735e-01, 6.16165073e-01, 9.10450847e-01, 8.40420409e-01,\n",
       "        5.44217491e-03, 3.22977834e-01, 7.17132704e-01, 2.04125341e-01,\n",
       "        1.59046857e-02, 2.53536246e-01, 3.10985355e-02, 7.89935533e-08,\n",
       "        1.45962007e-01, 8.17547768e-01, 8.87818650e-01, 9.10451091e-01,\n",
       "        9.10450924e-01, 9.10451010e-01, 8.98640183e-01, 1.84845145e-10,\n",
       "        2.41802654e-30, 4.55794907e-01, 9.10451091e-01, 8.87839185e-01,\n",
       "        9.10449999e-01, 9.10450963e-01, 7.57830233e-01, 8.04122642e-01,\n",
       "        8.09035714e-01, 3.97392293e-03, 8.54019352e-01, 9.10450947e-01,\n",
       "        8.37633950e-01, 9.10450980e-01, 9.10450956e-01, 2.71362382e-07,\n",
       "        7.93851591e-01, 2.85280058e-09, 9.10451091e-01, 1.12756989e-03,\n",
       "        2.91348809e-18, 9.06451844e-01, 9.08237187e-01, 9.10451091e-01,\n",
       "        9.07140648e-01, 9.10451091e-01, 3.52918873e-01, 7.00085864e-01,\n",
       "        9.10450929e-01, 3.43080628e-03, 9.10451047e-01, 8.22622243e-01,\n",
       "        5.40079645e-07, 9.10451091e-01, 4.23556757e-06, 7.30715091e-01,\n",
       "        9.10450916e-01, 9.97051575e-04, 1.92438813e-06, 1.59627981e-03,\n",
       "        9.00312066e-01, 9.03530098e-01, 9.01568048e-01, 9.10450941e-01,\n",
       "        4.93202531e-01, 7.94967163e-01, 9.10451001e-01, 1.79345913e-02,\n",
       "        2.17618835e-02, 8.76343177e-01, 7.46425602e-01, 9.10451091e-01,\n",
       "        7.64449810e-01, 9.10451091e-01, 1.54713995e-31, 1.93686907e-07,\n",
       "        5.17247268e-03, 9.10450968e-01, 8.85020710e-01, 8.40148216e-01,\n",
       "        9.04875200e-01, 5.08321669e-10, 6.49710426e-01, 9.10450967e-01,\n",
       "        8.99959758e-01, 2.57457859e-05, 8.54840211e-01, 3.17155140e-10,\n",
       "        7.98397505e-01, 9.10450980e-01, 9.10450946e-01, 9.10450948e-01,\n",
       "        5.83534158e-01, 1.05223133e-06, 9.10451013e-01, 1.75005559e-16,\n",
       "        3.49111904e-08, 9.10451089e-01, 2.29905562e-02, 4.80257559e-06,\n",
       "        1.11137416e-03, 9.10450903e-01, 9.10451091e-01, 9.10450997e-01,\n",
       "        9.00090434e-01, 9.10451091e-01, 7.52933322e-01, 1.07095483e-03,\n",
       "        7.93469164e-01, 9.10451047e-01, 7.31130507e-01, 9.10451064e-01,\n",
       "        5.73882379e-06, 9.10450963e-01, 9.10450743e-01, 7.80791105e-01,\n",
       "        1.26481994e-06, 8.08584728e-01, 9.02371700e-01, 3.00727526e-04,\n",
       "        9.10450940e-01, 9.10451091e-01, 8.83164354e-01, 9.10451016e-01,\n",
       "        2.29699227e-01, 1.83758757e-01, 7.25352557e-01, 8.10818536e-01,\n",
       "        8.53331103e-01, 5.59040276e-01, 7.39750926e-01, 2.54101035e-01,\n",
       "        9.10450941e-01, 9.08236397e-01, 6.02477084e-10, 3.46328915e-02,\n",
       "        9.10451091e-01, 4.26969001e-01, 9.10450882e-01, 9.10451091e-01,\n",
       "        6.27529070e-01, 8.80884836e-04, 8.70657378e-01, 2.79922884e-14,\n",
       "        8.98222173e-01, 6.00101816e-05, 7.39327317e-07, 9.08909021e-01,\n",
       "        7.09921700e-01, 2.90536456e-06, 9.10450831e-01, 5.60723176e-01,\n",
       "        6.88513868e-01, 3.82807467e-25, 9.10451091e-01, 2.85024177e-06,\n",
       "        9.10451061e-01, 8.54173523e-01, 9.06776297e-01, 9.10451008e-01,\n",
       "        9.07497164e-01, 2.16982356e-04, 1.15160116e-01, 7.06888986e-01,\n",
       "        4.37877721e-01, 8.44684937e-03, 5.77201958e-10]])"
      ]
     },
     "execution_count": 59,
     "metadata": {},
     "output_type": "execute_result"
    }
   ],
   "source": [
    "# Visualiza as previsões\n",
    "y_pred_treino"
   ]
  },
  {
   "cell_type": "code",
   "execution_count": 60,
   "metadata": {},
   "outputs": [],
   "source": [
    "# Ajustamos o shape em treino\n",
    "y_pred_treino = y_pred_treino.reshape(-1)\n",
    "y_treino = y_treino.reshape(-1)"
   ]
  },
  {
   "cell_type": "code",
   "execution_count": 61,
   "metadata": {},
   "outputs": [
    {
     "data": {
      "text/plain": [
       "array([False,  True,  True,  True, False,  True,  True, False, False,\n",
       "       False,  True, False, False,  True,  True,  True, False,  True,\n",
       "       False,  True, False,  True,  True, False,  True, False,  True,\n",
       "        True, False, False, False,  True, False,  True,  True,  True,\n",
       "        True,  True,  True,  True, False, False,  True,  True, False,\n",
       "       False,  True, False, False,  True,  True,  True,  True, False,\n",
       "        True, False,  True,  True, False,  True,  True, False, False,\n",
       "       False,  True,  True, False, False, False,  True,  True,  True,\n",
       "       False,  True,  True,  True,  True,  True,  True,  True, False,\n",
       "        True,  True, False, False,  True,  True, False, False,  True,\n",
       "        True,  True,  True,  True, False,  True,  True, False,  True,\n",
       "       False,  True, False, False,  True,  True,  True,  True,  True,\n",
       "        True,  True, False, False,  True,  True, False,  True,  True,\n",
       "       False, False,  True,  True, False, False,  True, False,  True,\n",
       "        True, False, False, False, False,  True,  True,  True,  True,\n",
       "        True,  True,  True,  True, False,  True, False, False,  True,\n",
       "        True,  True,  True,  True,  True,  True, False,  True,  True,\n",
       "        True,  True, False, False,  True,  True,  True,  True, False,\n",
       "       False, False,  True, False,  True,  True, False,  True, False,\n",
       "       False, False,  True,  True, False, False,  True, False, False,\n",
       "        True, False, False, False, False,  True,  True,  True,  True,\n",
       "        True,  True,  True,  True, False,  True,  True, False, False,\n",
       "        True, False,  True, False,  True, False,  True,  True,  True,\n",
       "        True,  True,  True, False,  True,  True, False,  True, False,\n",
       "        True,  True, False, False,  True, False, False,  True,  True,\n",
       "        True, False,  True, False,  True, False,  True,  True,  True,\n",
       "        True,  True,  True,  True, False, False, False, False, False,\n",
       "        True,  True, False,  True, False, False,  True,  True,  True,\n",
       "        True,  True,  True, False,  True, False, False, False, False,\n",
       "       False, False, False, False, False,  True,  True, False,  True,\n",
       "        True, False,  True,  True, False,  True,  True,  True, False,\n",
       "        True,  True, False,  True,  True,  True,  True,  True,  True,\n",
       "       False,  True,  True, False,  True,  True,  True,  True, False,\n",
       "        True, False, False,  True, False,  True, False, False,  True,\n",
       "        True,  True, False,  True,  True, False,  True,  True,  True,\n",
       "       False,  True,  True,  True,  True, False, False,  True, False,\n",
       "       False, False, False, False, False,  True,  True,  True,  True,\n",
       "        True,  True, False, False, False,  True,  True,  True,  True,\n",
       "        True,  True,  True, False,  True,  True,  True,  True,  True,\n",
       "       False,  True, False,  True, False, False,  True,  True,  True,\n",
       "        True,  True, False,  True,  True, False,  True,  True, False,\n",
       "        True, False,  True,  True, False, False, False,  True,  True,\n",
       "        True,  True, False,  True,  True, False, False,  True,  True,\n",
       "        True,  True,  True, False, False, False,  True,  True,  True,\n",
       "        True, False,  True,  True,  True, False,  True, False,  True,\n",
       "        True,  True,  True,  True, False,  True, False, False,  True,\n",
       "       False, False, False,  True,  True,  True,  True,  True,  True,\n",
       "       False,  True,  True,  True,  True, False,  True,  True,  True,\n",
       "       False,  True,  True, False,  True,  True,  True,  True, False,\n",
       "       False,  True,  True,  True,  True,  True, False,  True,  True,\n",
       "       False, False,  True, False,  True,  True,  True, False,  True,\n",
       "       False,  True, False, False,  True,  True, False,  True,  True,\n",
       "        True, False,  True, False,  True,  True,  True,  True,  True,\n",
       "       False, False,  True, False, False, False])"
      ]
     },
     "execution_count": 61,
     "metadata": {},
     "output_type": "execute_result"
    }
   ],
   "source": [
    "y_pred_treino > 0.5"
   ]
  },
  {
   "cell_type": "code",
   "execution_count": 62,
   "metadata": {},
   "outputs": [],
   "source": [
    "# Convertemos as previsões para o valor binário de classe \n",
    "# (0 ou 1, usando como threshold o valor de 0.5 da probabilidade)\n",
    "y_pred_treino = 1 * (y_pred_treino > 0.5)"
   ]
  },
  {
   "cell_type": "code",
   "execution_count": 63,
   "metadata": {},
   "outputs": [
    {
     "data": {
      "text/plain": [
       "array([0, 1, 1, 1, 0, 1, 1, 0, 0, 0, 1, 0, 0, 1, 1, 1, 0, 1, 0, 1, 0, 1,\n",
       "       1, 0, 1, 0, 1, 1, 0, 0, 0, 1, 0, 1, 1, 1, 1, 1, 1, 1, 0, 0, 1, 1,\n",
       "       0, 0, 1, 0, 0, 1, 1, 1, 1, 0, 1, 0, 1, 1, 0, 1, 1, 0, 0, 0, 1, 1,\n",
       "       0, 0, 0, 1, 1, 1, 0, 1, 1, 1, 1, 1, 1, 1, 0, 1, 1, 0, 0, 1, 1, 0,\n",
       "       0, 1, 1, 1, 1, 1, 0, 1, 1, 0, 1, 0, 1, 0, 0, 1, 1, 1, 1, 1, 1, 1,\n",
       "       0, 0, 1, 1, 0, 1, 1, 0, 0, 1, 1, 0, 0, 1, 0, 1, 1, 0, 0, 0, 0, 1,\n",
       "       1, 1, 1, 1, 1, 1, 1, 0, 1, 0, 0, 1, 1, 1, 1, 1, 1, 1, 0, 1, 1, 1,\n",
       "       1, 0, 0, 1, 1, 1, 1, 0, 0, 0, 1, 0, 1, 1, 0, 1, 0, 0, 0, 1, 1, 0,\n",
       "       0, 1, 0, 0, 1, 0, 0, 0, 0, 1, 1, 1, 1, 1, 1, 1, 1, 0, 1, 1, 0, 0,\n",
       "       1, 0, 1, 0, 1, 0, 1, 1, 1, 1, 1, 1, 0, 1, 1, 0, 1, 0, 1, 1, 0, 0,\n",
       "       1, 0, 0, 1, 1, 1, 0, 1, 0, 1, 0, 1, 1, 1, 1, 1, 1, 1, 0, 0, 0, 0,\n",
       "       0, 1, 1, 0, 1, 0, 0, 1, 1, 1, 1, 1, 1, 0, 1, 0, 0, 0, 0, 0, 0, 0,\n",
       "       0, 0, 1, 1, 0, 1, 1, 0, 1, 1, 0, 1, 1, 1, 0, 1, 1, 0, 1, 1, 1, 1,\n",
       "       1, 1, 0, 1, 1, 0, 1, 1, 1, 1, 0, 1, 0, 0, 1, 0, 1, 0, 0, 1, 1, 1,\n",
       "       0, 1, 1, 0, 1, 1, 1, 0, 1, 1, 1, 1, 0, 0, 1, 0, 0, 0, 0, 0, 0, 1,\n",
       "       1, 1, 1, 1, 1, 0, 0, 0, 1, 1, 1, 1, 1, 1, 1, 0, 1, 1, 1, 1, 1, 0,\n",
       "       1, 0, 1, 0, 0, 1, 1, 1, 1, 1, 0, 1, 1, 0, 1, 1, 0, 1, 0, 1, 1, 0,\n",
       "       0, 0, 1, 1, 1, 1, 0, 1, 1, 0, 0, 1, 1, 1, 1, 1, 0, 0, 0, 1, 1, 1,\n",
       "       1, 0, 1, 1, 1, 0, 1, 0, 1, 1, 1, 1, 1, 0, 1, 0, 0, 1, 0, 0, 0, 1,\n",
       "       1, 1, 1, 1, 1, 0, 1, 1, 1, 1, 0, 1, 1, 1, 0, 1, 1, 0, 1, 1, 1, 1,\n",
       "       0, 0, 1, 1, 1, 1, 1, 0, 1, 1, 0, 0, 1, 0, 1, 1, 1, 0, 1, 0, 1, 0,\n",
       "       0, 1, 1, 0, 1, 1, 1, 0, 1, 0, 1, 1, 1, 1, 1, 0, 0, 1, 0, 0, 0])"
      ]
     },
     "execution_count": 63,
     "metadata": {},
     "output_type": "execute_result"
    }
   ],
   "source": [
    "y_pred_treino"
   ]
  },
  {
   "cell_type": "code",
   "execution_count": 64,
   "metadata": {},
   "outputs": [],
   "source": [
    "# Calculamos a acurácia comparando valor real com valor previsto\n",
    "acc_treino = sum(1 * (y_pred_treino == y_treino)) / len(y_pred_treino) * 100"
   ]
  },
  {
   "cell_type": "code",
   "execution_count": 65,
   "metadata": {},
   "outputs": [
    {
     "name": "stdout",
     "output_type": "stream",
     "text": [
      "Acurácia nos dados de treino: 92.54658385093167\n"
     ]
    }
   ],
   "source": [
    "print(\"Acurácia nos dados de treino: \" + str(acc_treino))"
   ]
  },
  {
   "cell_type": "code",
   "execution_count": 66,
   "metadata": {},
   "outputs": [
    {
     "name": "stdout",
     "output_type": "stream",
     "text": [
      "              precision    recall  f1-score   support\n",
      "\n",
      "     Maligno       0.91      0.90      0.90       188\n",
      "     Benigno       0.94      0.94      0.94       295\n",
      "\n",
      "    accuracy                           0.93       483\n",
      "   macro avg       0.92      0.92      0.92       483\n",
      "weighted avg       0.93      0.93      0.93       483\n",
      "\n"
     ]
    }
   ],
   "source": [
    "print(classification_report(y_treino, y_pred_treino, target_names = ['Maligno', 'Benigno']))"
   ]
  },
  {
   "cell_type": "code",
   "execution_count": 67,
   "metadata": {},
   "outputs": [],
   "source": [
    "# Previsões com o modelo usando dados de teste\n",
    "y_pred_teste = predict(X_teste, parametros)"
   ]
  },
  {
   "cell_type": "code",
   "execution_count": 68,
   "metadata": {},
   "outputs": [
    {
     "data": {
      "text/plain": [
       "array([[8.73853675e-01, 9.10451056e-01, 6.11592595e-01, 8.76209934e-01,\n",
       "        8.72769946e-01, 5.54780471e-11, 3.21846645e-02, 9.10451091e-01,\n",
       "        9.10451091e-01, 9.10451091e-01, 8.18901638e-01, 9.66526695e-04,\n",
       "        8.83433204e-01, 8.33912671e-01, 9.10451091e-01, 9.10451002e-01,\n",
       "        1.39228178e-14, 2.54383440e-03, 9.00749521e-01, 7.11139611e-01,\n",
       "        7.33100874e-01, 8.84752204e-01, 9.10450946e-01, 5.03978753e-09,\n",
       "        9.10450996e-01, 9.10451018e-01, 4.06537501e-01, 9.10451091e-01,\n",
       "        2.65128470e-01, 2.54858215e-05, 4.60153280e-12, 8.71863908e-01,\n",
       "        6.64346868e-01, 9.10450943e-01, 2.34031808e-06, 9.10451012e-01,\n",
       "        8.75002494e-01, 8.24119600e-01, 9.10224124e-01, 8.72634068e-01,\n",
       "        5.59761706e-01, 9.10451091e-01, 6.96067859e-01, 9.10450978e-01,\n",
       "        5.87965847e-01, 7.89484442e-01, 8.57777079e-01, 1.24213139e-05,\n",
       "        1.46181503e-02, 2.44127113e-05, 8.55371657e-01, 8.95259544e-01,\n",
       "        9.10450897e-01, 8.91347108e-01, 9.10450788e-01, 9.10451091e-01,\n",
       "        8.15637866e-01, 8.80281901e-01, 9.10450844e-01, 7.99431062e-01,\n",
       "        1.78929828e-01, 9.10450914e-01, 8.39720384e-01, 9.10451091e-01,\n",
       "        4.37644957e-02, 8.70262697e-01, 8.73911815e-01, 7.87565467e-01,\n",
       "        8.15372697e-01, 3.10129804e-19, 4.21387598e-05, 9.10451091e-01,\n",
       "        6.59804331e-01, 8.61369289e-01, 8.72184869e-01, 2.45352227e-05,\n",
       "        8.10679945e-01, 8.82426035e-01, 9.07139466e-01, 9.06934613e-01,\n",
       "        9.10450982e-01, 9.10451024e-01, 6.83814586e-01, 2.10754744e-01,\n",
       "        8.95893984e-01, 1.04690803e-02]])"
      ]
     },
     "execution_count": 68,
     "metadata": {},
     "output_type": "execute_result"
    }
   ],
   "source": [
    "# Visualiza os dados\n",
    "y_pred_teste"
   ]
  },
  {
   "cell_type": "code",
   "execution_count": 69,
   "metadata": {},
   "outputs": [],
   "source": [
    "# Ajustamos os shapes\n",
    "y_pred_teste = y_pred_teste.reshape(-1)\n",
    "y_teste = y_teste.reshape(-1)"
   ]
  },
  {
   "cell_type": "code",
   "execution_count": 70,
   "metadata": {},
   "outputs": [],
   "source": [
    "# Convertemos as previsões para o valor binário de classe\n",
    "y_pred_teste = 1 * (y_pred_teste > 0.5)"
   ]
  },
  {
   "cell_type": "code",
   "execution_count": 71,
   "metadata": {},
   "outputs": [
    {
     "data": {
      "text/plain": [
       "array([1, 1, 1, 1, 1, 0, 0, 1, 1, 1, 1, 0, 1, 1, 1, 1, 0, 0, 1, 1, 1, 1,\n",
       "       1, 0, 1, 1, 0, 1, 0, 0, 0, 1, 1, 1, 0, 1, 1, 1, 1, 1, 1, 1, 1, 1,\n",
       "       1, 1, 1, 0, 0, 0, 1, 1, 1, 1, 1, 1, 1, 1, 1, 1, 0, 1, 1, 1, 0, 1,\n",
       "       1, 1, 1, 0, 0, 1, 1, 1, 1, 0, 1, 1, 1, 1, 1, 1, 1, 0, 1, 0])"
      ]
     },
     "execution_count": 71,
     "metadata": {},
     "output_type": "execute_result"
    }
   ],
   "source": [
    "# Visualizamos as previsões\n",
    "y_pred_teste"
   ]
  },
  {
   "cell_type": "code",
   "execution_count": 72,
   "metadata": {},
   "outputs": [],
   "source": [
    "# Calculamos a acurácia\n",
    "acuracia = sum(1 * (y_pred_teste == y_teste)) / len(y_pred_teste) * 100"
   ]
  },
  {
   "cell_type": "code",
   "execution_count": 73,
   "metadata": {},
   "outputs": [
    {
     "name": "stdout",
     "output_type": "stream",
     "text": [
      "Acurácia nos dados de teste: 91.86046511627907\n"
     ]
    }
   ],
   "source": [
    "print(\"Acurácia nos dados de teste: \" + str(acuracia))"
   ]
  },
  {
   "cell_type": "code",
   "execution_count": 74,
   "metadata": {},
   "outputs": [
    {
     "name": "stdout",
     "output_type": "stream",
     "text": [
      "              precision    recall  f1-score   support\n",
      "\n",
      "     Maligno       0.90      0.79      0.84        24\n",
      "     Benigno       0.92      0.97      0.94        62\n",
      "\n",
      "    accuracy                           0.92        86\n",
      "   macro avg       0.91      0.88      0.89        86\n",
      "weighted avg       0.92      0.92      0.92        86\n",
      "\n"
     ]
    }
   ],
   "source": [
    "print(classification_report(y_teste, y_pred_teste, target_names = ['Maligno', 'Benigno']))"
   ]
  }
 ],
 "metadata": {
  "kernelspec": {
   "display_name": "Python 3",
   "language": "python",
   "name": "python3"
  },
  "language_info": {
   "codemirror_mode": {
    "name": "ipython",
    "version": 3
   },
   "file_extension": ".py",
   "mimetype": "text/x-python",
   "name": "python",
   "nbconvert_exporter": "python",
   "pygments_lexer": "ipython3",
   "version": "3.8.5"
  }
 },
 "nbformat": 4,
 "nbformat_minor": 4
}
